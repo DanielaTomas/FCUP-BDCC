{
  "nbformat": 4,
  "nbformat_minor": 0,
  "metadata": {
    "colab": {
      "provenance": []
    },
    "kernelspec": {
      "name": "python3",
      "display_name": "Python 3"
    },
    "language_info": {
      "name": "python"
    }
  },
  "cells": [
    {
      "cell_type": "markdown",
      "source": [],
      "metadata": {
        "id": "INxSS5WaUXKo"
      }
    },
    {
      "cell_type": "markdown",
      "source": [
        "# Google Cloud Connection"
      ],
      "metadata": {
        "id": "Dq4emZFwUe_z"
      }
    },
    {
      "cell_type": "markdown",
      "source": [
        "Setting Project id"
      ],
      "metadata": {
        "id": "YUFn7lsMU4OT"
      }
    },
    {
      "cell_type": "code",
      "source": [
        "PROJECT_ID = 'bdcc-project1-417811'"
      ],
      "metadata": {
        "id": "r1SU2TtwUXpQ"
      },
      "execution_count": null,
      "outputs": []
    },
    {
      "cell_type": "markdown",
      "source": [
        "Authenticating in Google Cloud"
      ],
      "metadata": {
        "id": "-bOEksvyU70l"
      }
    },
    {
      "cell_type": "code",
      "source": [
        "from google.colab import auth\n",
        "auth.authenticate_user()\n",
        "!gcloud config set project {PROJECT_ID}"
      ],
      "metadata": {
        "colab": {
          "base_uri": "https://localhost:8080/"
        },
        "id": "hCUDLj1KVBoB",
        "outputId": "040844e5-c37d-4447-b206-a0b0a071b4f5"
      },
      "execution_count": null,
      "outputs": [
        {
          "output_type": "stream",
          "name": "stdout",
          "text": [
            "Updated property [core/project].\n"
          ]
        }
      ]
    },
    {
      "cell_type": "markdown",
      "source": [
        "Bucket creation"
      ],
      "metadata": {
        "id": "jN6rQJtAVst7"
      }
    },
    {
      "cell_type": "code",
      "source": [
        "# !gsutil mb gs://{PROJECT_ID} commented since bucket was already created"
      ],
      "metadata": {
        "id": "OXngpfn-VvV7"
      },
      "execution_count": null,
      "outputs": []
    },
    {
      "cell_type": "markdown",
      "source": [
        "# BigQuery Client"
      ],
      "metadata": {
        "id": "1jqAVkJL0T83"
      }
    },
    {
      "cell_type": "code",
      "source": [
        "import google.cloud.bigquery as bq\n",
        "\n",
        "client = bq.Client(project=PROJECT_ID)"
      ],
      "metadata": {
        "id": "1bRIY6EO0Xh0"
      },
      "execution_count": null,
      "outputs": []
    },
    {
      "cell_type": "markdown",
      "source": [
        "# Data Preparation\n"
      ],
      "metadata": {
        "id": "Qj9faU07WlNs"
      }
    },
    {
      "cell_type": "markdown",
      "source": [
        "Initial calling of libraries and files from bucket"
      ],
      "metadata": {
        "id": "uG8qmO2DQoZQ"
      }
    },
    {
      "cell_type": "code",
      "source": [
        "import pandas as pd\n",
        "import time\n",
        "\n",
        "!gsutil cp gs://{PROJECT_ID}/classes.csv .\n",
        "!gsutil cp gs://{PROJECT_ID}/relations.csv .\n",
        "!gsutil cp gs://{PROJECT_ID}/image-labels.csv ."
      ],
      "metadata": {
        "colab": {
          "base_uri": "https://localhost:8080/"
        },
        "id": "ddiXd3RoQoEP",
        "outputId": "8b1cfca5-ee79-4923-fed2-9d0548a60a2f"
      },
      "execution_count": null,
      "outputs": [
        {
          "output_type": "stream",
          "name": "stdout",
          "text": [
            "Copying gs://bdcc-project1-417811/classes.csv...\n",
            "/ [0 files][    0.0 B/ 11.8 KiB]                                                \r/ [1 files][ 11.8 KiB/ 11.8 KiB]                                                \r\n",
            "Operation completed over 1 objects/11.8 KiB.                                     \n",
            "Copying gs://bdcc-project1-417811/relations.csv...\n",
            "/ [1 files][113.5 KiB/113.5 KiB]                                                \n",
            "Operation completed over 1 objects/113.5 KiB.                                    \n",
            "Copying gs://bdcc-project1-417811/image-labels.csv...\n",
            "/ [1 files][ 10.9 MiB/ 10.9 MiB]                                                \n",
            "Operation completed over 1 objects/10.9 MiB.                                     \n"
          ]
        }
      ]
    },
    {
      "cell_type": "markdown",
      "source": [
        "Extraction of data from csv files (classes.csv, relations.csv, image-labels.csv)"
      ],
      "metadata": {
        "id": "9llxFjvFQPwN"
      }
    },
    {
      "cell_type": "code",
      "execution_count": null,
      "metadata": {
        "colab": {
          "base_uri": "https://localhost:8080/",
          "height": 424
        },
        "id": "A18SeJk-MgTb",
        "outputId": "a9ff26ce-3eb5-4795-e45c-441bfa9f7eb5"
      },
      "outputs": [
        {
          "output_type": "execute_result",
          "data": {
            "text/plain": [
              "           Label Description\n",
              "0      /m/011k07    Tortoise\n",
              "1    /m/011q46kg   Container\n",
              "2      /m/012074      Magpie\n",
              "3      /m/0120dh  Sea turtle\n",
              "4      /m/01226z    Football\n",
              "..           ...         ...\n",
              "596     /m/0qmmr  Wheelchair\n",
              "597   /m/0wdt60w  Rugby ball\n",
              "598      /m/0xfy   Armadillo\n",
              "599     /m/0xzly     Maracas\n",
              "600     /m/0zvk5      Helmet\n",
              "\n",
              "[601 rows x 2 columns]"
            ],
            "text/html": [
              "\n",
              "  <div id=\"df-ce86a1f4-6c80-4937-86ac-05c23edcc1b5\" class=\"colab-df-container\">\n",
              "    <div>\n",
              "<style scoped>\n",
              "    .dataframe tbody tr th:only-of-type {\n",
              "        vertical-align: middle;\n",
              "    }\n",
              "\n",
              "    .dataframe tbody tr th {\n",
              "        vertical-align: top;\n",
              "    }\n",
              "\n",
              "    .dataframe thead th {\n",
              "        text-align: right;\n",
              "    }\n",
              "</style>\n",
              "<table border=\"1\" class=\"dataframe\">\n",
              "  <thead>\n",
              "    <tr style=\"text-align: right;\">\n",
              "      <th></th>\n",
              "      <th>Label</th>\n",
              "      <th>Description</th>\n",
              "    </tr>\n",
              "  </thead>\n",
              "  <tbody>\n",
              "    <tr>\n",
              "      <th>0</th>\n",
              "      <td>/m/011k07</td>\n",
              "      <td>Tortoise</td>\n",
              "    </tr>\n",
              "    <tr>\n",
              "      <th>1</th>\n",
              "      <td>/m/011q46kg</td>\n",
              "      <td>Container</td>\n",
              "    </tr>\n",
              "    <tr>\n",
              "      <th>2</th>\n",
              "      <td>/m/012074</td>\n",
              "      <td>Magpie</td>\n",
              "    </tr>\n",
              "    <tr>\n",
              "      <th>3</th>\n",
              "      <td>/m/0120dh</td>\n",
              "      <td>Sea turtle</td>\n",
              "    </tr>\n",
              "    <tr>\n",
              "      <th>4</th>\n",
              "      <td>/m/01226z</td>\n",
              "      <td>Football</td>\n",
              "    </tr>\n",
              "    <tr>\n",
              "      <th>...</th>\n",
              "      <td>...</td>\n",
              "      <td>...</td>\n",
              "    </tr>\n",
              "    <tr>\n",
              "      <th>596</th>\n",
              "      <td>/m/0qmmr</td>\n",
              "      <td>Wheelchair</td>\n",
              "    </tr>\n",
              "    <tr>\n",
              "      <th>597</th>\n",
              "      <td>/m/0wdt60w</td>\n",
              "      <td>Rugby ball</td>\n",
              "    </tr>\n",
              "    <tr>\n",
              "      <th>598</th>\n",
              "      <td>/m/0xfy</td>\n",
              "      <td>Armadillo</td>\n",
              "    </tr>\n",
              "    <tr>\n",
              "      <th>599</th>\n",
              "      <td>/m/0xzly</td>\n",
              "      <td>Maracas</td>\n",
              "    </tr>\n",
              "    <tr>\n",
              "      <th>600</th>\n",
              "      <td>/m/0zvk5</td>\n",
              "      <td>Helmet</td>\n",
              "    </tr>\n",
              "  </tbody>\n",
              "</table>\n",
              "<p>601 rows × 2 columns</p>\n",
              "</div>\n",
              "    <div class=\"colab-df-buttons\">\n",
              "\n",
              "  <div class=\"colab-df-container\">\n",
              "    <button class=\"colab-df-convert\" onclick=\"convertToInteractive('df-ce86a1f4-6c80-4937-86ac-05c23edcc1b5')\"\n",
              "            title=\"Convert this dataframe to an interactive table.\"\n",
              "            style=\"display:none;\">\n",
              "\n",
              "  <svg xmlns=\"http://www.w3.org/2000/svg\" height=\"24px\" viewBox=\"0 -960 960 960\">\n",
              "    <path d=\"M120-120v-720h720v720H120Zm60-500h600v-160H180v160Zm220 220h160v-160H400v160Zm0 220h160v-160H400v160ZM180-400h160v-160H180v160Zm440 0h160v-160H620v160ZM180-180h160v-160H180v160Zm440 0h160v-160H620v160Z\"/>\n",
              "  </svg>\n",
              "    </button>\n",
              "\n",
              "  <style>\n",
              "    .colab-df-container {\n",
              "      display:flex;\n",
              "      gap: 12px;\n",
              "    }\n",
              "\n",
              "    .colab-df-convert {\n",
              "      background-color: #E8F0FE;\n",
              "      border: none;\n",
              "      border-radius: 50%;\n",
              "      cursor: pointer;\n",
              "      display: none;\n",
              "      fill: #1967D2;\n",
              "      height: 32px;\n",
              "      padding: 0 0 0 0;\n",
              "      width: 32px;\n",
              "    }\n",
              "\n",
              "    .colab-df-convert:hover {\n",
              "      background-color: #E2EBFA;\n",
              "      box-shadow: 0px 1px 2px rgba(60, 64, 67, 0.3), 0px 1px 3px 1px rgba(60, 64, 67, 0.15);\n",
              "      fill: #174EA6;\n",
              "    }\n",
              "\n",
              "    .colab-df-buttons div {\n",
              "      margin-bottom: 4px;\n",
              "    }\n",
              "\n",
              "    [theme=dark] .colab-df-convert {\n",
              "      background-color: #3B4455;\n",
              "      fill: #D2E3FC;\n",
              "    }\n",
              "\n",
              "    [theme=dark] .colab-df-convert:hover {\n",
              "      background-color: #434B5C;\n",
              "      box-shadow: 0px 1px 3px 1px rgba(0, 0, 0, 0.15);\n",
              "      filter: drop-shadow(0px 1px 2px rgba(0, 0, 0, 0.3));\n",
              "      fill: #FFFFFF;\n",
              "    }\n",
              "  </style>\n",
              "\n",
              "    <script>\n",
              "      const buttonEl =\n",
              "        document.querySelector('#df-ce86a1f4-6c80-4937-86ac-05c23edcc1b5 button.colab-df-convert');\n",
              "      buttonEl.style.display =\n",
              "        google.colab.kernel.accessAllowed ? 'block' : 'none';\n",
              "\n",
              "      async function convertToInteractive(key) {\n",
              "        const element = document.querySelector('#df-ce86a1f4-6c80-4937-86ac-05c23edcc1b5');\n",
              "        const dataTable =\n",
              "          await google.colab.kernel.invokeFunction('convertToInteractive',\n",
              "                                                    [key], {});\n",
              "        if (!dataTable) return;\n",
              "\n",
              "        const docLinkHtml = 'Like what you see? Visit the ' +\n",
              "          '<a target=\"_blank\" href=https://colab.research.google.com/notebooks/data_table.ipynb>data table notebook</a>'\n",
              "          + ' to learn more about interactive tables.';\n",
              "        element.innerHTML = '';\n",
              "        dataTable['output_type'] = 'display_data';\n",
              "        await google.colab.output.renderOutput(dataTable, element);\n",
              "        const docLink = document.createElement('div');\n",
              "        docLink.innerHTML = docLinkHtml;\n",
              "        element.appendChild(docLink);\n",
              "      }\n",
              "    </script>\n",
              "  </div>\n",
              "\n",
              "\n",
              "<div id=\"df-c547748b-9ea4-4e31-838c-f4e1079f4580\">\n",
              "  <button class=\"colab-df-quickchart\" onclick=\"quickchart('df-c547748b-9ea4-4e31-838c-f4e1079f4580')\"\n",
              "            title=\"Suggest charts\"\n",
              "            style=\"display:none;\">\n",
              "\n",
              "<svg xmlns=\"http://www.w3.org/2000/svg\" height=\"24px\"viewBox=\"0 0 24 24\"\n",
              "     width=\"24px\">\n",
              "    <g>\n",
              "        <path d=\"M19 3H5c-1.1 0-2 .9-2 2v14c0 1.1.9 2 2 2h14c1.1 0 2-.9 2-2V5c0-1.1-.9-2-2-2zM9 17H7v-7h2v7zm4 0h-2V7h2v10zm4 0h-2v-4h2v4z\"/>\n",
              "    </g>\n",
              "</svg>\n",
              "  </button>\n",
              "\n",
              "<style>\n",
              "  .colab-df-quickchart {\n",
              "      --bg-color: #E8F0FE;\n",
              "      --fill-color: #1967D2;\n",
              "      --hover-bg-color: #E2EBFA;\n",
              "      --hover-fill-color: #174EA6;\n",
              "      --disabled-fill-color: #AAA;\n",
              "      --disabled-bg-color: #DDD;\n",
              "  }\n",
              "\n",
              "  [theme=dark] .colab-df-quickchart {\n",
              "      --bg-color: #3B4455;\n",
              "      --fill-color: #D2E3FC;\n",
              "      --hover-bg-color: #434B5C;\n",
              "      --hover-fill-color: #FFFFFF;\n",
              "      --disabled-bg-color: #3B4455;\n",
              "      --disabled-fill-color: #666;\n",
              "  }\n",
              "\n",
              "  .colab-df-quickchart {\n",
              "    background-color: var(--bg-color);\n",
              "    border: none;\n",
              "    border-radius: 50%;\n",
              "    cursor: pointer;\n",
              "    display: none;\n",
              "    fill: var(--fill-color);\n",
              "    height: 32px;\n",
              "    padding: 0;\n",
              "    width: 32px;\n",
              "  }\n",
              "\n",
              "  .colab-df-quickchart:hover {\n",
              "    background-color: var(--hover-bg-color);\n",
              "    box-shadow: 0 1px 2px rgba(60, 64, 67, 0.3), 0 1px 3px 1px rgba(60, 64, 67, 0.15);\n",
              "    fill: var(--button-hover-fill-color);\n",
              "  }\n",
              "\n",
              "  .colab-df-quickchart-complete:disabled,\n",
              "  .colab-df-quickchart-complete:disabled:hover {\n",
              "    background-color: var(--disabled-bg-color);\n",
              "    fill: var(--disabled-fill-color);\n",
              "    box-shadow: none;\n",
              "  }\n",
              "\n",
              "  .colab-df-spinner {\n",
              "    border: 2px solid var(--fill-color);\n",
              "    border-color: transparent;\n",
              "    border-bottom-color: var(--fill-color);\n",
              "    animation:\n",
              "      spin 1s steps(1) infinite;\n",
              "  }\n",
              "\n",
              "  @keyframes spin {\n",
              "    0% {\n",
              "      border-color: transparent;\n",
              "      border-bottom-color: var(--fill-color);\n",
              "      border-left-color: var(--fill-color);\n",
              "    }\n",
              "    20% {\n",
              "      border-color: transparent;\n",
              "      border-left-color: var(--fill-color);\n",
              "      border-top-color: var(--fill-color);\n",
              "    }\n",
              "    30% {\n",
              "      border-color: transparent;\n",
              "      border-left-color: var(--fill-color);\n",
              "      border-top-color: var(--fill-color);\n",
              "      border-right-color: var(--fill-color);\n",
              "    }\n",
              "    40% {\n",
              "      border-color: transparent;\n",
              "      border-right-color: var(--fill-color);\n",
              "      border-top-color: var(--fill-color);\n",
              "    }\n",
              "    60% {\n",
              "      border-color: transparent;\n",
              "      border-right-color: var(--fill-color);\n",
              "    }\n",
              "    80% {\n",
              "      border-color: transparent;\n",
              "      border-right-color: var(--fill-color);\n",
              "      border-bottom-color: var(--fill-color);\n",
              "    }\n",
              "    90% {\n",
              "      border-color: transparent;\n",
              "      border-bottom-color: var(--fill-color);\n",
              "    }\n",
              "  }\n",
              "</style>\n",
              "\n",
              "  <script>\n",
              "    async function quickchart(key) {\n",
              "      const quickchartButtonEl =\n",
              "        document.querySelector('#' + key + ' button');\n",
              "      quickchartButtonEl.disabled = true;  // To prevent multiple clicks.\n",
              "      quickchartButtonEl.classList.add('colab-df-spinner');\n",
              "      try {\n",
              "        const charts = await google.colab.kernel.invokeFunction(\n",
              "            'suggestCharts', [key], {});\n",
              "      } catch (error) {\n",
              "        console.error('Error during call to suggestCharts:', error);\n",
              "      }\n",
              "      quickchartButtonEl.classList.remove('colab-df-spinner');\n",
              "      quickchartButtonEl.classList.add('colab-df-quickchart-complete');\n",
              "    }\n",
              "    (() => {\n",
              "      let quickchartButtonEl =\n",
              "        document.querySelector('#df-c547748b-9ea4-4e31-838c-f4e1079f4580 button');\n",
              "      quickchartButtonEl.style.display =\n",
              "        google.colab.kernel.accessAllowed ? 'block' : 'none';\n",
              "    })();\n",
              "  </script>\n",
              "</div>\n",
              "    </div>\n",
              "  </div>\n"
            ],
            "application/vnd.google.colaboratory.intrinsic+json": {
              "type": "dataframe",
              "variable_name": "classes",
              "summary": "{\n  \"name\": \"classes\",\n  \"rows\": 601,\n  \"fields\": [\n    {\n      \"column\": \"Label\",\n      \"properties\": {\n        \"dtype\": \"string\",\n        \"num_unique_values\": 601,\n        \"samples\": [\n          \"/m/01ww8y\",\n          \"/m/09728\",\n          \"/m/0jy4k\"\n        ],\n        \"semantic_type\": \"\",\n        \"description\": \"\"\n      }\n    },\n    {\n      \"column\": \"Description\",\n      \"properties\": {\n        \"dtype\": \"string\",\n        \"num_unique_values\": 601,\n        \"samples\": [\n          \"Snack\",\n          \"Bread\",\n          \"Doughnut\"\n        ],\n        \"semantic_type\": \"\",\n        \"description\": \"\"\n      }\n    }\n  ]\n}"
            }
          },
          "metadata": {},
          "execution_count": 19
        }
      ],
      "source": [
        "classes = pd.read_csv(\"classes.csv\")\n",
        "relations = pd.read_csv(\"relations.csv\")\n",
        "imageLabel = pd.read_csv(\"image-labels.csv\")\n",
        "\n",
        "classes"
      ]
    },
    {
      "cell_type": "markdown",
      "source": [
        "Creation of Images Dataset in BigQuery"
      ],
      "metadata": {
        "id": "GugceaPV0rsi"
      }
    },
    {
      "cell_type": "code",
      "source": [
        "dataset = client.create_dataset('openimages', exists_ok=True)"
      ],
      "metadata": {
        "id": "SmP5Sc1204n4"
      },
      "execution_count": null,
      "outputs": []
    },
    {
      "cell_type": "markdown",
      "source": [
        "Creation of corresponding classes in BigQuery"
      ],
      "metadata": {
        "id": "CN7rdoQF1OBk"
      }
    },
    {
      "cell_type": "markdown",
      "source": [
        "Classes table"
      ],
      "metadata": {
        "id": "vnmDvqPf2r30"
      }
    },
    {
      "cell_type": "code",
      "source": [
        "table_name = PROJECT_ID + '.openimages.classes'\n",
        "print('Creating table ' + table_name)\n",
        "\n",
        "# Deletion of the table in case you're running this for the second time\n",
        "client.delete_table(table_name, not_found_ok=True)\n",
        "\n",
        "# Creation of classesTable\n",
        "classesTable = bq.Table(table_name)\n",
        "classesTable.schema = (\n",
        "        bq.SchemaField('Label',       'STRING'),\n",
        "        bq.SchemaField('Description', 'STRING')\n",
        ")\n",
        "client.create_table(classesTable)"
      ],
      "metadata": {
        "colab": {
          "base_uri": "https://localhost:8080/"
        },
        "id": "mGPHYJXX1Oik",
        "outputId": "55ee2754-60cc-45a3-b83d-70866310e878"
      },
      "execution_count": null,
      "outputs": [
        {
          "output_type": "stream",
          "name": "stdout",
          "text": [
            "Creating table bdcc-project1-417811.openimages.classes\n"
          ]
        },
        {
          "output_type": "execute_result",
          "data": {
            "text/plain": [
              "Table(TableReference(DatasetReference('bdcc-project1-417811', 'openimages'), 'classes'))"
            ]
          },
          "metadata": {},
          "execution_count": 21
        }
      ]
    },
    {
      "cell_type": "code",
      "source": [
        "print('Loading data into ' + table_name)\n",
        "load_job = client.load_table_from_dataframe(classes, classesTable)\n",
        "\n",
        "while load_job.running():\n",
        "  print('waiting for the load job to complete')\n",
        "  time.sleep(1)\n",
        "\n",
        "if load_job.errors == None:\n",
        "  print('Load complete!')\n",
        "else:\n",
        "  print(load_job.errors)"
      ],
      "metadata": {
        "colab": {
          "base_uri": "https://localhost:8080/"
        },
        "id": "MOCHAfslOLMT",
        "outputId": "320ea231-5621-4d80-efc1-6cf2014edf89"
      },
      "execution_count": null,
      "outputs": [
        {
          "output_type": "stream",
          "name": "stdout",
          "text": [
            "Loading data into bdcc-project1-417811.openimages.classes\n",
            "waiting for the load job to complete\n",
            "waiting for the load job to complete\n",
            "Load complete!\n"
          ]
        }
      ]
    },
    {
      "cell_type": "markdown",
      "source": [
        "Relations table"
      ],
      "metadata": {
        "id": "BHNzGO-s20H5"
      }
    },
    {
      "cell_type": "code",
      "source": [
        "table_name = PROJECT_ID + '.openimages.relations'\n",
        "print('Creating table ' + table_name)\n",
        "\n",
        "# Deletion of the table in case you're running this for the second time\n",
        "client.delete_table(table_name, not_found_ok=True)\n",
        "\n",
        "# Creation of relationsTable\n",
        "relationsTable = bq.Table(table_name)\n",
        "relationsTable.schema = (\n",
        "        bq.SchemaField('ImageId',  'STRING'),\n",
        "        bq.SchemaField('Label1',   'STRING'),\n",
        "        bq.SchemaField('Relation', 'STRING'),\n",
        "        bq.SchemaField('Label2',   'STRING')\n",
        ")\n",
        "client.create_table(relationsTable)"
      ],
      "metadata": {
        "colab": {
          "base_uri": "https://localhost:8080/"
        },
        "id": "2h6AqXaK228R",
        "outputId": "7ecfd1ce-0f1e-40dd-9284-0e39dd482477"
      },
      "execution_count": null,
      "outputs": [
        {
          "output_type": "stream",
          "name": "stdout",
          "text": [
            "Creating table bdcc-project1-417811.openimages.relations\n"
          ]
        },
        {
          "output_type": "execute_result",
          "data": {
            "text/plain": [
              "Table(TableReference(DatasetReference('bdcc-project1-417811', 'openimages'), 'relations'))"
            ]
          },
          "metadata": {},
          "execution_count": 23
        }
      ]
    },
    {
      "cell_type": "code",
      "source": [
        "print('Loading data into ' + table_name)\n",
        "load_job = client.load_table_from_dataframe(relations, relationsTable)\n",
        "\n",
        "while load_job.running():\n",
        "  print('waiting for the load job to complete')\n",
        "  time.sleep(1)\n",
        "\n",
        "if load_job.errors == None:\n",
        "  print('Load complete!')\n",
        "else:\n",
        "  print(load_job.errors)"
      ],
      "metadata": {
        "colab": {
          "base_uri": "https://localhost:8080/"
        },
        "id": "m1gbqBYsPFjv",
        "outputId": "1d4f13fc-a4fe-4af0-960f-67547b1213df"
      },
      "execution_count": null,
      "outputs": [
        {
          "output_type": "stream",
          "name": "stdout",
          "text": [
            "Loading data into bdcc-project1-417811.openimages.relations\n",
            "waiting for the load job to complete\n",
            "waiting for the load job to complete\n",
            "Load complete!\n"
          ]
        }
      ]
    },
    {
      "cell_type": "markdown",
      "source": [
        "Image Labels Table"
      ],
      "metadata": {
        "id": "TsP3Zwt03PMD"
      }
    },
    {
      "cell_type": "code",
      "source": [
        "table_name = PROJECT_ID + '.openimages.image_labels'\n",
        "print('Creating table ' + table_name)\n",
        "\n",
        "# Deletion of the table in case you're running this for the second time\n",
        "client.delete_table(table_name, not_found_ok=True)\n",
        "\n",
        "# Creation of imageLabelTable\n",
        "imageLabelTable = bq.Table(table_name)\n",
        "imageLabelTable.schema = (\n",
        "        bq.SchemaField('ImageId',  'STRING'),\n",
        "        bq.SchemaField('Label',   'STRING')\n",
        ")\n",
        "client.create_table(imageLabelTable)"
      ],
      "metadata": {
        "colab": {
          "base_uri": "https://localhost:8080/"
        },
        "id": "xT5bSkML3SYZ",
        "outputId": "fef454d2-4bce-4595-97e7-abc4626d6ba0"
      },
      "execution_count": null,
      "outputs": [
        {
          "output_type": "stream",
          "name": "stdout",
          "text": [
            "Creating table bdcc-project1-417811.openimages.image_labels\n"
          ]
        },
        {
          "output_type": "execute_result",
          "data": {
            "text/plain": [
              "Table(TableReference(DatasetReference('bdcc-project1-417811', 'openimages'), 'image_labels'))"
            ]
          },
          "metadata": {},
          "execution_count": 25
        }
      ]
    },
    {
      "cell_type": "markdown",
      "source": [
        "Upload data onto BigQuery"
      ],
      "metadata": {
        "id": "xbM9XkUP3s8e"
      }
    },
    {
      "cell_type": "code",
      "source": [
        "print('Loading data into ' + table_name)\n",
        "load_job = client.load_table_from_dataframe(imageLabel, imageLabelTable)\n",
        "\n",
        "while load_job.running():\n",
        "  print('waiting for the load job to complete')\n",
        "  time.sleep(1)\n",
        "\n",
        "if load_job.errors == None:\n",
        "  print('Load complete!')\n",
        "else:\n",
        "  print(load_job.errors)"
      ],
      "metadata": {
        "id": "TujgFvT_31HD",
        "colab": {
          "base_uri": "https://localhost:8080/"
        },
        "outputId": "ed844311-864e-4c4b-8047-a7079d630ecf"
      },
      "execution_count": null,
      "outputs": [
        {
          "output_type": "stream",
          "name": "stdout",
          "text": [
            "Loading data into bdcc-project1-417811.openimages.image_labels\n",
            "waiting for the load job to complete\n",
            "waiting for the load job to complete\n",
            "waiting for the load job to complete\n",
            "Load complete!\n"
          ]
        }
      ]
    }
  ]
}