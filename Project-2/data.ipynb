{
 "cells": [
  {
   "cell_type": "markdown",
   "metadata": {},
   "source": [
    "# Machine Learning Pipeline - Should this be a challenge?\n",
    "\n",
    "**[Big Data and Cloud Computing]**\n",
    "\n",
    "## Group D\n",
    "* Daniela Tomás, up202004946\n",
    "* Diogo Nunes, up202007895\n",
    "* Diogo Almeida, up202006059"
   ]
  },
  {
   "cell_type": "markdown",
   "metadata": {},
   "source": [
    "## References\n",
    "* https://mimic.mit.edu/docs/iii/tables/\n",
    "* https://mit-lcp.github.io/mimic-schema-spy/relationships.html\n",
    "* https://people.cs.pitt.edu/~jlee/note/intro_to_mimic_db.pdf\n",
    "* https://stackoverflow.com/questions/59659344/how-to-process-faster-on-gz-files-in-spark-scala\n",
    "* https://stackoverflow.com/questions/61961123/my-bar-plot-is-not-showing-bars-for-all-the-data-values"
   ]
  },
  {
   "cell_type": "markdown",
   "metadata": {},
   "source": [
    "## PySpark Setup\n",
    "Firstly, we import the necessary libraries, packages and methods."
   ]
  },
  {
   "cell_type": "code",
   "execution_count": 1,
   "metadata": {},
   "outputs": [],
   "source": [
    "from pyspark.sql import SparkSession, Window\n",
    "from pyspark.sql.functions import *\n",
    "from pyspark.sql.types import IntegerType\n",
    "import matplotlib.pyplot as plt\n",
    "import seaborn as sns\n",
    "from pyspark.sql.functions import min as spark_min, max as spark_max, avg as spark_avg, sum as spark_sum, round\n",
    "from pyspark.sql.functions import col, desc\n",
    "import os\n",
    "from pyspark.ml.feature import StringIndexer\n",
    "from pyspark.ml.stat import Correlation\n",
    "from pyspark.ml.feature import VectorAssembler\n",
    "\n",
    "import pandas as pd"
   ]
  },
  {
   "cell_type": "markdown",
   "metadata": {},
   "source": [
    "Spark requires the JAVA_HOME environment variable to be set."
   ]
  },
  {
   "cell_type": "code",
   "execution_count": 2,
   "metadata": {},
   "outputs": [],
   "source": [
    "#os.environ['JAVA_HOME'] = '/usr/lib/jvm/java-17-openjdk-amd64'\n",
    "os.environ['JAVA_HOME'] = '/usr/lib/jvm/java-21-openjdk-21.0.3.0.9-1.fc40.x86_64/'\n",
    "os.environ['SPARK_LOCAL_IP'] = '127.0.0.1'\n",
    "os.environ['SPARK_MASTER_HOST'] = 'localhost'"
   ]
  },
  {
   "cell_type": "markdown",
   "metadata": {},
   "source": [
    "Spark can be configured with lots of settings.  \n",
    "In particular we highlight the \"local[*]\" which configures spark to run in standalone mode, so everything is running in the local machine, using all available threads."
   ]
  },
  {
   "cell_type": "code",
   "execution_count": 2,
   "metadata": {},
   "outputs": [],
   "source": [
    "spark = SparkSession.builder \\\n",
    "    .appName(\"ICU_Length_of_Stay_Prediction\") \\\n",
    "    .master(\"local[*]\") \\\n",
    "    .config(\"spark.driver.memory\", \"4g\") \\\n",
    "    .config(\"spark.executor.memory\", \"4g\") \\\n",
    "    .config(\"spark.driver.host\",\"127.0.0.1\") \\\n",
    "    .config(\"spark.driver.bindAddress\",\"127.0.0.1\") \\\n",
    "    .getOrCreate()\n",
    "sc = spark.sparkContext"
   ]
  },
  {
   "cell_type": "markdown",
   "metadata": {},
   "source": [
    "Load the data stored in Parquet format."
   ]
  },
  {
   "cell_type": "code",
   "execution_count": 3,
   "metadata": {},
   "outputs": [
    {
     "name": "stdout",
     "output_type": "stream",
     "text": [
      "root\n",
      " |-- ROW_ID: integer (nullable = true)\n",
      " |-- SUBJECT_ID: integer (nullable = true)\n",
      " |-- HADM_ID: integer (nullable = true)\n",
      " |-- ICUSTAY_ID: integer (nullable = true)\n",
      " |-- ITEMID: integer (nullable = true)\n",
      " |-- CHARTTIME: timestamp (nullable = true)\n",
      " |-- STORETIME: timestamp (nullable = true)\n",
      " |-- CGID: integer (nullable = true)\n",
      " |-- VALUE: string (nullable = true)\n",
      " |-- VALUENUM: double (nullable = true)\n",
      " |-- VALUEUOM: string (nullable = true)\n",
      " |-- WARNING: integer (nullable = true)\n",
      " |-- ERROR: integer (nullable = true)\n",
      " |-- RESULTSTATUS: string (nullable = true)\n",
      " |-- STOPPED: string (nullable = true)\n",
      "\n",
      "+-------+----------+-------+----------+------+-------------------+-------------------+-----+-----+--------+--------+-------+-----+------------+-------+\n",
      "| ROW_ID|SUBJECT_ID|HADM_ID|ICUSTAY_ID|ITEMID|          CHARTTIME|          STORETIME| CGID|VALUE|VALUENUM|VALUEUOM|WARNING|ERROR|RESULTSTATUS|STOPPED|\n",
      "+-------+----------+-------+----------+------+-------------------+-------------------+-----+-----+--------+--------+-------+-----+------------+-------+\n",
      "|2876208|     24548| 114085|    276527|226253|2191-01-28 20:15:00|2191-01-28 20:16:00|20868|   90|    90.0|       %|      0|    0|        NULL|   NULL|\n",
      "|2876209|     24548| 114085|    276527|223834|2191-01-28 20:55:00|2191-01-28 20:55:00|20868|    3|     3.0|   L/min|      0|    0|        NULL|   NULL|\n",
      "|2876210|     24548| 114085|    276527|220045|2191-01-28 21:00:00|2191-01-28 21:09:00|20868|   87|    87.0|     bpm|      0|    0|        NULL|   NULL|\n",
      "|2876211|     24548| 114085|    276527|220179|2191-01-28 21:00:00|2191-01-28 21:09:00|20868|  179|   179.0|    mmHg|      0|    0|        NULL|   NULL|\n",
      "|2876212|     24548| 114085|    276527|220180|2191-01-28 21:00:00|2191-01-28 21:09:00|20868|  114|   114.0|    mmHg|      0|    0|        NULL|   NULL|\n",
      "+-------+----------+-------+----------+------+-------------------+-------------------+-----+-----+--------+--------+-------+-----+------------+-------+\n",
      "only showing top 5 rows\n",
      "\n"
     ]
    }
   ],
   "source": [
    "file_path = \"dataset/CHARTEVENTS.parquet\"\n",
    "\n",
    "df = spark.read.format(\"parquet\") \\\n",
    "    .option(\"header\", \"true\") \\\n",
    "    .option(\"inferSchema\", \"true\") \\\n",
    "    .load(file_path)\n",
    "\n",
    "df.printSchema()\n",
    "df.show(5)"
   ]
  },
  {
   "cell_type": "code",
   "execution_count": 4,
   "metadata": {},
   "outputs": [
    {
     "name": "stdout",
     "output_type": "stream",
     "text": [
      "root\n",
      " |-- ROW_ID: integer (nullable = true)\n",
      " |-- SUBJECT_ID: integer (nullable = true)\n",
      " |-- HADM_ID: integer (nullable = true)\n",
      " |-- ICUSTAY_ID: integer (nullable = true)\n",
      " |-- DBSOURCE: string (nullable = true)\n",
      " |-- FIRST_CAREUNIT: string (nullable = true)\n",
      " |-- LAST_CAREUNIT: string (nullable = true)\n",
      " |-- FIRST_WARDID: integer (nullable = true)\n",
      " |-- LAST_WARDID: integer (nullable = true)\n",
      " |-- INTIME: timestamp (nullable = true)\n",
      " |-- OUTTIME: timestamp (nullable = true)\n",
      " |-- LOS: double (nullable = true)\n",
      "\n",
      "+------+----------+-------+----------+--------+--------------+-------------+------------+-----------+-------------------+-------------------+------+\n",
      "|ROW_ID|SUBJECT_ID|HADM_ID|ICUSTAY_ID|DBSOURCE|FIRST_CAREUNIT|LAST_CAREUNIT|FIRST_WARDID|LAST_WARDID|             INTIME|            OUTTIME|   LOS|\n",
      "+------+----------+-------+----------+--------+--------------+-------------+------------+-----------+-------------------+-------------------+------+\n",
      "|   365|       268| 110404|    280836| carevue|          MICU|         MICU|          52|         52|2198-02-14 23:27:38|2198-02-18 05:26:11| 3.249|\n",
      "|   366|       269| 106296|    206613| carevue|          MICU|         MICU|          52|         52|2170-11-05 11:05:29|2170-11-08 17:46:57|3.2788|\n",
      "|   367|       270| 188028|    220345| carevue|           CCU|          CCU|          57|         57|2128-06-24 15:05:20|2128-06-27 12:32:29|2.8939|\n",
      "|   368|       271| 173727|    249196| carevue|          MICU|         SICU|          52|         23|2120-08-07 23:12:42|2120-08-10 00:39:04|  2.06|\n",
      "|   369|       272| 164716|    210407| carevue|           CCU|          CCU|          57|         57|2186-12-25 21:08:04|2186-12-27 12:01:13|1.6202|\n",
      "+------+----------+-------+----------+--------+--------------+-------------+------------+-----------+-------------------+-------------------+------+\n",
      "only showing top 5 rows\n",
      "\n"
     ]
    }
   ],
   "source": [
    "icu_file_path = \"dataset/ICUSTAYS.parquet\"\n",
    "\n",
    "df_icustays = spark.read.format(\"parquet\") \\\n",
    "    .option(\"header\", \"true\") \\\n",
    "    .option(\"inferSchema\", \"true\") \\\n",
    "    .load(icu_file_path)\n",
    "\n",
    "df_icustays.printSchema()\n",
    "df_icustays.show(5)"
   ]
  },
  {
   "cell_type": "code",
   "execution_count": 5,
   "metadata": {},
   "outputs": [
    {
     "name": "stdout",
     "output_type": "stream",
     "text": [
      "root\n",
      " |-- ROW_ID: integer (nullable = true)\n",
      " |-- ICD9_CODE: string (nullable = true)\n",
      " |-- SHORT_TITLE: string (nullable = true)\n",
      " |-- LONG_TITLE: string (nullable = true)\n",
      "\n",
      "+------+---------+--------------------+--------------------+\n",
      "|ROW_ID|ICD9_CODE|         SHORT_TITLE|          LONG_TITLE|\n",
      "+------+---------+--------------------+--------------------+\n",
      "|   174|    01166|TB pneumonia-oth ...|Tuberculous pneum...|\n",
      "|   175|    01170|TB pneumothorax-u...|Tuberculous pneum...|\n",
      "|   176|    01171|TB pneumothorax-n...|Tuberculous pneum...|\n",
      "|   177|    01172|TB pneumothorx-ex...|Tuberculous pneum...|\n",
      "|   178|    01173|TB pneumothorax-m...|Tuberculous pneum...|\n",
      "+------+---------+--------------------+--------------------+\n",
      "only showing top 5 rows\n",
      "\n"
     ]
    }
   ],
   "source": [
    "d_icd_diagnoses_file_path = \"dataset/D_ICD_DIAGNOSES.parquet\"\n",
    "\n",
    "df_d_icd_diagnoses = spark.read.format(\"parquet\") \\\n",
    "    .option(\"header\", \"true\") \\\n",
    "    .option(\"inferSchema\", \"true\") \\\n",
    "    .load(d_icd_diagnoses_file_path)\n",
    "\n",
    "df_d_icd_diagnoses.printSchema()\n",
    "df_d_icd_diagnoses.show(5)"
   ]
  },
  {
   "cell_type": "code",
   "execution_count": 6,
   "metadata": {},
   "outputs": [
    {
     "name": "stdout",
     "output_type": "stream",
     "text": [
      "root\n",
      " |-- ROW_ID: integer (nullable = true)\n",
      " |-- SUBJECT_ID: integer (nullable = true)\n",
      " |-- GENDER: string (nullable = true)\n",
      " |-- DOB: timestamp (nullable = true)\n",
      " |-- DOD: timestamp (nullable = true)\n",
      " |-- DOD_HOSP: timestamp (nullable = true)\n",
      " |-- DOD_SSN: timestamp (nullable = true)\n",
      " |-- EXPIRE_FLAG: integer (nullable = true)\n",
      "\n",
      "+------+----------+------+-------------------+-------------------+-------------------+-------+-----------+\n",
      "|ROW_ID|SUBJECT_ID|GENDER|                DOB|                DOD|           DOD_HOSP|DOD_SSN|EXPIRE_FLAG|\n",
      "+------+----------+------+-------------------+-------------------+-------------------+-------+-----------+\n",
      "|   234|       249|     F|2075-03-13 00:00:00|               NULL|               NULL|   NULL|          0|\n",
      "|   235|       250|     F|2164-12-27 00:00:00|2188-11-22 00:00:00|2188-11-22 00:00:00|   NULL|          1|\n",
      "|   236|       251|     M|2090-03-15 00:00:00|               NULL|               NULL|   NULL|          0|\n",
      "|   237|       252|     M|2078-03-06 00:00:00|               NULL|               NULL|   NULL|          0|\n",
      "|   238|       253|     F|2089-11-26 00:00:00|               NULL|               NULL|   NULL|          0|\n",
      "+------+----------+------+-------------------+-------------------+-------------------+-------+-----------+\n",
      "only showing top 5 rows\n",
      "\n"
     ]
    }
   ],
   "source": [
    "patients_file_path = \"dataset/PATIENTS.parquet\"\n",
    "\n",
    "df_patients = spark.read.format(\"parquet\") \\\n",
    "    .option(\"header\", \"true\") \\\n",
    "    .option(\"inferSchema\", \"true\") \\\n",
    "    .load(patients_file_path)\n",
    "\n",
    "df_patients.printSchema()\n",
    "df_patients.show(5)"
   ]
  },
  {
   "cell_type": "code",
   "execution_count": 7,
   "metadata": {},
   "outputs": [
    {
     "name": "stdout",
     "output_type": "stream",
     "text": [
      "root\n",
      " |-- ROW_ID: integer (nullable = true)\n",
      " |-- SUBJECT_ID: integer (nullable = true)\n",
      " |-- HADM_ID: integer (nullable = true)\n",
      " |-- SEQ_NUM: integer (nullable = true)\n",
      " |-- ICD9_CODE: string (nullable = true)\n",
      "\n",
      "+------+----------+-------+-------+---------+\n",
      "|ROW_ID|SUBJECT_ID|HADM_ID|SEQ_NUM|ICD9_CODE|\n",
      "+------+----------+-------+-------+---------+\n",
      "|  1297|       109| 172335|      1|    40301|\n",
      "|  1298|       109| 172335|      2|      486|\n",
      "|  1299|       109| 172335|      3|    58281|\n",
      "|  1300|       109| 172335|      4|     5855|\n",
      "|  1301|       109| 172335|      5|     4254|\n",
      "+------+----------+-------+-------+---------+\n",
      "only showing top 5 rows\n",
      "\n"
     ]
    }
   ],
   "source": [
    "icd_diagnoses_file_path = \"dataset/DIAGNOSES_ICD.parquet\"\n",
    "\n",
    "df_icd_diagnoses = spark.read.format(\"parquet\") \\\n",
    "    .option(\"header\", \"true\") \\\n",
    "    .option(\"inferSchema\", \"true\") \\\n",
    "    .load(icd_diagnoses_file_path)\n",
    "\n",
    "df_icd_diagnoses.printSchema()\n",
    "df_icd_diagnoses.show(5)"
   ]
  },
  {
   "cell_type": "code",
   "execution_count": 8,
   "metadata": {},
   "outputs": [
    {
     "name": "stdout",
     "output_type": "stream",
     "text": [
      "root\n",
      " |-- ROW_ID: integer (nullable = true)\n",
      " |-- SUBJECT_ID: integer (nullable = true)\n",
      " |-- HADM_ID: integer (nullable = true)\n",
      " |-- ADMITTIME: timestamp (nullable = true)\n",
      " |-- DISCHTIME: timestamp (nullable = true)\n",
      " |-- DEATHTIME: timestamp (nullable = true)\n",
      " |-- ADMISSION_TYPE: string (nullable = true)\n",
      " |-- ADMISSION_LOCATION: string (nullable = true)\n",
      " |-- DISCHARGE_LOCATION: string (nullable = true)\n",
      " |-- INSURANCE: string (nullable = true)\n",
      " |-- LANGUAGE: string (nullable = true)\n",
      " |-- RELIGION: string (nullable = true)\n",
      " |-- MARITAL_STATUS: string (nullable = true)\n",
      " |-- ETHNICITY: string (nullable = true)\n",
      " |-- EDREGTIME: timestamp (nullable = true)\n",
      " |-- EDOUTTIME: timestamp (nullable = true)\n",
      " |-- DIAGNOSIS: string (nullable = true)\n",
      " |-- HOSPITAL_EXPIRE_FLAG: integer (nullable = true)\n",
      " |-- HAS_CHARTEVENTS_DATA: integer (nullable = true)\n",
      "\n",
      "+------+----------+-------+-------------------+-------------------+---------+--------------+--------------------+--------------------+---------+--------+-----------------+--------------+---------+-------------------+-------------------+--------------------+--------------------+--------------------+\n",
      "|ROW_ID|SUBJECT_ID|HADM_ID|          ADMITTIME|          DISCHTIME|DEATHTIME|ADMISSION_TYPE|  ADMISSION_LOCATION|  DISCHARGE_LOCATION|INSURANCE|LANGUAGE|         RELIGION|MARITAL_STATUS|ETHNICITY|          EDREGTIME|          EDOUTTIME|           DIAGNOSIS|HOSPITAL_EXPIRE_FLAG|HAS_CHARTEVENTS_DATA|\n",
      "+------+----------+-------+-------------------+-------------------+---------+--------------+--------------------+--------------------+---------+--------+-----------------+--------------+---------+-------------------+-------------------+--------------------+--------------------+--------------------+\n",
      "|    21|        22| 165315|2196-04-09 12:26:00|2196-04-10 15:54:00|     NULL|     EMERGENCY|EMERGENCY ROOM ADMIT|DISC-TRAN CANCER/...|  Private|    NULL|     UNOBTAINABLE|       MARRIED|    WHITE|2196-04-09 10:06:00|2196-04-09 13:24:00|BENZODIAZEPINE OV...|                   0|                   1|\n",
      "|    22|        23| 152223|2153-09-03 07:15:00|2153-09-08 19:10:00|     NULL|      ELECTIVE|PHYS REFERRAL/NOR...|    HOME HEALTH CARE| Medicare|    NULL|         CATHOLIC|       MARRIED|    WHITE|               NULL|               NULL|CORONARY ARTERY D...|                   0|                   1|\n",
      "|    23|        23| 124321|2157-10-18 19:34:00|2157-10-25 14:00:00|     NULL|     EMERGENCY|TRANSFER FROM HOS...|    HOME HEALTH CARE| Medicare|    ENGL|         CATHOLIC|       MARRIED|    WHITE|               NULL|               NULL|          BRAIN MASS|                   0|                   1|\n",
      "|    24|        24| 161859|2139-06-06 16:14:00|2139-06-09 12:48:00|     NULL|     EMERGENCY|TRANSFER FROM HOS...|                HOME|  Private|    NULL|PROTESTANT QUAKER|        SINGLE|    WHITE|               NULL|               NULL|INTERIOR MYOCARDI...|                   0|                   1|\n",
      "|    25|        25| 129635|2160-11-02 02:06:00|2160-11-05 14:55:00|     NULL|     EMERGENCY|EMERGENCY ROOM ADMIT|                HOME|  Private|    NULL|     UNOBTAINABLE|       MARRIED|    WHITE|2160-11-02 01:01:00|2160-11-02 04:27:00|ACUTE CORONARY SY...|                   0|                   1|\n",
      "+------+----------+-------+-------------------+-------------------+---------+--------------+--------------------+--------------------+---------+--------+-----------------+--------------+---------+-------------------+-------------------+--------------------+--------------------+--------------------+\n",
      "only showing top 5 rows\n",
      "\n"
     ]
    }
   ],
   "source": [
    "file_path = \"dataset/ADMISSIONS.csv\"\n",
    "\n",
    "df_admissions = spark.read.format(\"csv\") \\\n",
    "    .option(\"header\", \"true\") \\\n",
    "    .option(\"inferSchema\", \"true\") \\\n",
    "    .option(\"delimiter\", \",\") \\\n",
    "    .load(file_path)\n",
    "\n",
    "df_admissions.printSchema()\n",
    "df_admissions.show(5)"
   ]
  },
  {
   "cell_type": "markdown",
   "metadata": {},
   "source": [
    "## Data understanding and preparation"
   ]
  },
  {
   "cell_type": "code",
   "execution_count": 10,
   "metadata": {},
   "outputs": [
    {
     "name": "stdout",
     "output_type": "stream",
     "text": [
      "330712483 rows and 15 cols\n"
     ]
    }
   ],
   "source": [
    "print(f'{df.count()} rows and {len(df.columns)} cols')"
   ]
  },
  {
   "cell_type": "markdown",
   "metadata": {},
   "source": [
    "### ICU Stays"
   ]
  },
  {
   "cell_type": "markdown",
   "metadata": {},
   "source": [
    "First, we'll check for any nulls in our intended target variable."
   ]
  },
  {
   "cell_type": "code",
   "execution_count": 9,
   "metadata": {},
   "outputs": [
    {
     "name": "stdout",
     "output_type": "stream",
     "text": [
      "+------+----------+-------+----------+--------+--------------+-------------+------------+-----------+-------------------+-------+----+\n",
      "|ROW_ID|SUBJECT_ID|HADM_ID|ICUSTAY_ID|DBSOURCE|FIRST_CAREUNIT|LAST_CAREUNIT|FIRST_WARDID|LAST_WARDID|             INTIME|OUTTIME| LOS|\n",
      "+------+----------+-------+----------+--------+--------------+-------------+------------+-----------+-------------------+-------+----+\n",
      "|   650|       499| 138066|    265303| carevue|          MICU|         MICU|          15|         15|2147-01-18 19:11:00|   NULL|NULL|\n",
      "|  6628|      5216| 130232|    262702| carevue|          NICU|         NICU|          26|         26|2114-02-26 05:41:00|   NULL|NULL|\n",
      "| 11108|      8733| 171006|    296619| carevue|          NICU|         NICU|          26|         26|2190-02-03 07:37:00|   NULL|NULL|\n",
      "|  8216|      6462| 168585|    270511| carevue|          NICU|         NICU|          26|         26|2135-04-23 10:06:00|   NULL|NULL|\n",
      "| 12923|     10168| 184129|    292281| carevue|          MICU|         MICU|          52|         52|2111-03-06 20:52:00|   NULL|NULL|\n",
      "| 13060|     10273| 127370|    269344| carevue|          NICU|         NICU|          26|         26|2153-02-16 21:57:00|   NULL|NULL|\n",
      "| 18665|     14712| 188201|    259704| carevue|          NICU|         NICU|          26|         26|2110-01-29 23:41:00|   NULL|NULL|\n",
      "| 12871|     10128| 148324|    246075| carevue|          CSRU|         CSRU|          33|         33|2117-03-29 18:58:00|   NULL|NULL|\n",
      "| 25343|     19967| 146232|    234207| carevue|          NICU|         NICU|          26|         26|2168-03-02 23:40:00|   NULL|NULL|\n",
      "| 26451|     20861| 127498|    206053| carevue|          NICU|         NICU|          26|         26|2136-02-20 17:31:00|   NULL|NULL|\n",
      "+------+----------+-------+----------+--------+--------------+-------------+------------+-----------+-------------------+-------+----+\n",
      "\n"
     ]
    }
   ],
   "source": [
    "df_icustays_filtered = df_icustays.filter(col(\"LOS\").isNull())\n",
    "df_icustays_filtered.show()"
   ]
  },
  {
   "cell_type": "markdown",
   "metadata": {},
   "source": [
    "We spot some right away and choose to remove them"
   ]
  },
  {
   "cell_type": "code",
   "execution_count": 10,
   "metadata": {},
   "outputs": [],
   "source": [
    "df_icustays = df_icustays.filter(col(\"LOS\").isNotNull())"
   ]
  },
  {
   "cell_type": "markdown",
   "metadata": {},
   "source": [
    "### Chart Events"
   ]
  },
  {
   "cell_type": "code",
   "execution_count": 13,
   "metadata": {},
   "outputs": [
    {
     "name": "stderr",
     "output_type": "stream",
     "text": [
      "[Stage 18:=====================================>                 (24 + 11) / 35]\r"
     ]
    },
    {
     "name": "stdout",
     "output_type": "stream",
     "text": [
      "+-------+------------------+\n",
      "|summary|          VALUENUM|\n",
      "+-------+------------------+\n",
      "|  count|         146504168|\n",
      "|   mean| 71.82548549626641|\n",
      "| stddev|2047.6643228137305|\n",
      "|    min|          -10069.0|\n",
      "|    max|         9999999.0|\n",
      "+-------+------------------+\n",
      "\n"
     ]
    },
    {
     "name": "stderr",
     "output_type": "stream",
     "text": [
      "                                                                                \r"
     ]
    }
   ],
   "source": [
    "df.describe(\"VALUENUM\").show()"
   ]
  },
  {
   "cell_type": "markdown",
   "metadata": {},
   "source": [
    "We aggregate the value items of patients to find the min, max, and average values."
   ]
  },
  {
   "cell_type": "code",
   "execution_count": 11,
   "metadata": {},
   "outputs": [
    {
     "name": "stdout",
     "output_type": "stream",
     "text": [
      "+----------+------+-------+----------+---------+---------+---------+\n",
      "|SUBJECT_ID|ITEMID|HADM_ID|ICUSTAY_ID|min_value|max_value|avg_value|\n",
      "+----------+------+-------+----------+---------+---------+---------+\n",
      "|     24548|223834| 114085|    276527|      1.0|      6.0|      3.1|\n",
      "|     24402|220224| 173999|    234655|     31.0|    448.0|    124.7|\n",
      "|     23933|220052| 123253|    264104|     20.0|    324.0|     66.4|\n",
      "|     23933|225624| 123253|    264104|     37.0|    138.0|     87.6|\n",
      "|     24170|224697| 130390|    234335|      2.0|     11.0|      8.3|\n",
      "+----------+------+-------+----------+---------+---------+---------+\n",
      "only showing top 5 rows\n",
      "\n"
     ]
    }
   ],
   "source": [
    "item_df = df.groupBy(\"SUBJECT_ID\", \"ITEMID\", \"HADM_ID\", \"ICUSTAY_ID\") \\\n",
    "    .agg(\n",
    "        min(\"VALUENUM\").alias(\"min_value\"),\n",
    "        max(\"VALUENUM\").alias(\"max_value\"),\n",
    "        round(avg(\"VALUENUM\"),1).alias(\"avg_value\")\n",
    "    )\n",
    "item_df.show(5)"
   ]
  },
  {
   "cell_type": "markdown",
   "metadata": {},
   "source": [
    "Now, we'll count the frequency of each `ITEMID`, select the top most frequent and top least frequent items and then combine the results to get the dataframe that contains aggregated values for the selected items."
   ]
  },
  {
   "cell_type": "code",
   "execution_count": 12,
   "metadata": {},
   "outputs": [],
   "source": [
    "item_frequency_df = df.groupBy(\"ITEMID\").agg(count(\"*\").alias(\"count\"))\n",
    "most_frequent_items = item_frequency_df.orderBy(col(\"count\").desc()).limit(10)\n",
    "least_frequent_items = item_frequency_df.orderBy(col(\"count\").asc()).limit(10)"
   ]
  },
  {
   "cell_type": "code",
   "execution_count": 13,
   "metadata": {},
   "outputs": [
    {
     "name": "stdout",
     "output_type": "stream",
     "text": [
      "+------+-------+----------+-------+----------+---------+---------+---------+\n",
      "|ITEMID|  count|SUBJECT_ID|HADM_ID|ICUSTAY_ID|min_value|max_value|avg_value|\n",
      "+------+-------+----------+-------+----------+---------+---------+---------+\n",
      "|220045|2762225|     24276| 180416|    201169|     73.0|    113.0|     86.1|\n",
      "|220045|2762225|     24050| 131128|    210639|     84.0|    127.0|     96.1|\n",
      "|220045|2762225|     23949| 114200|    287367|     66.0|     79.0|     71.2|\n",
      "|220045|2762225|     27121| 167456|    211255|     41.0|    160.0|     93.3|\n",
      "|220045|2762225|     29261| 116772|    221214|     67.0|     87.0|     76.7|\n",
      "+------+-------+----------+-------+----------+---------+---------+---------+\n",
      "only showing top 5 rows\n",
      "\n"
     ]
    }
   ],
   "source": [
    "most_frequent_items_df = most_frequent_items.join(item_df, \"ITEMID\")\n",
    "least_frequent_items_df = least_frequent_items.join(item_df, \"ITEMID\")\n",
    "item_df = most_frequent_items_df.union(least_frequent_items_df)\n",
    "item_df.show(5)"
   ]
  },
  {
   "cell_type": "code",
   "execution_count": 17,
   "metadata": {},
   "outputs": [
    {
     "name": "stderr",
     "output_type": "stream",
     "text": [
      "24/06/21 16:31:33 WARN SparkStringUtils: Truncated the string representation of a plan since it was too large. This behavior can be adjusted by setting 'spark.sql.debug.maxToStringFields'.\n",
      "[Stage 37:====>                                                   (1 + 12) / 14]\r"
     ]
    },
    {
     "name": "stdout",
     "output_type": "stream",
     "text": [
      "+-------+------------------+-----------------+------------------+------------------+\n",
      "|summary|             count|        min_value|         max_value|         avg_value|\n",
      "+-------+------------------+-----------------+------------------+------------------+\n",
      "|  count|            288754|           147913|            147913|            147913|\n",
      "|   mean|3479336.0231269524|48.06753135964236|142.72037853329607|61.486819278900654|\n",
      "| stddev| 679786.9786031487|40.04904231278375|26002.250158844778|271.77872723892006|\n",
      "|    min|                 1|            -88.0|               0.0|               0.0|\n",
      "|    max|           5180809|           1700.0|         9999999.0|          103185.2|\n",
      "+-------+------------------+-----------------+------------------+------------------+\n",
      "\n"
     ]
    },
    {
     "name": "stderr",
     "output_type": "stream",
     "text": [
      "                                                                                \r"
     ]
    }
   ],
   "source": [
    "item_df.describe(\"count\",\"min_value\",\"max_value\",\"avg_value\").show()"
   ]
  },
  {
   "cell_type": "markdown",
   "metadata": {},
   "source": [
    "#### Window"
   ]
  },
  {
   "cell_type": "markdown",
   "metadata": {},
   "source": [
    "Let's define a window, and we'll order the window by `CHARTTIME`."
   ]
  },
  {
   "cell_type": "code",
   "execution_count": 14,
   "metadata": {},
   "outputs": [],
   "source": [
    "window_spec = Window.partitionBy(\"SUBJECT_ID\", \"ITEMID\", \"HADM_ID\", \"ICUSTAY_ID\") \\\n",
    "    .orderBy(col(\"CHARTTIME\").cast(\"timestamp\").cast(\"long\")) \\\n",
    "    .rangeBetween(-3, 0)"
   ]
  },
  {
   "cell_type": "markdown",
   "metadata": {},
   "source": [
    "We'll look at previous records of LOS, as this can potentially provide some context."
   ]
  },
  {
   "cell_type": "code",
   "execution_count": 15,
   "metadata": {},
   "outputs": [
    {
     "name": "stdout",
     "output_type": "stream",
     "text": [
      "+----------+------+-------+----------+---------+---------+---------+\n",
      "|SUBJECT_ID|ITEMID|HADM_ID|ICUSTAY_ID|min_value|max_value|avg_value|\n",
      "+----------+------+-------+----------+---------+---------+---------+\n",
      "|         3|   559| 145834|    211552|     NULL|     NULL|     NULL|\n",
      "|         3|   859| 145834|    211552|     35.0|     35.0|     35.0|\n",
      "|         3|   925| 145834|    211552|     NULL|     NULL|     NULL|\n",
      "|         3|  1046| 145834|    211552|     NULL|     NULL|     NULL|\n",
      "|         3|  1046| 145834|    211552|     NULL|     NULL|     NULL|\n",
      "+----------+------+-------+----------+---------+---------+---------+\n",
      "only showing top 5 rows\n",
      "\n"
     ]
    }
   ],
   "source": [
    "item_window_df = df.withColumn('min_value', min('VALUENUM').over(window_spec)) \\\n",
    "                .withColumn('max_value', max('VALUENUM').over(window_spec)) \\\n",
    "                .withColumn('avg_value', round(avg('VALUENUM').over(window_spec), 1)) \\\n",
    "                .select(\"SUBJECT_ID\", \"ITEMID\", \"HADM_ID\", \"ICUSTAY_ID\", \"min_value\", \"max_value\", \"avg_value\")\n",
    "                #.distinct()\n",
    "                \n",
    "item_window_df.show(5)"
   ]
  },
  {
   "cell_type": "markdown",
   "metadata": {},
   "source": [
    "Unfortunately, we haven't done anything with the aggregate values (`min_value`, `max_value` and `avg_value` values) of both `item_df` and `item_window_df` dataframes."
   ]
  },
  {
   "cell_type": "markdown",
   "metadata": {},
   "source": [
    "### Total event count"
   ]
  },
  {
   "cell_type": "code",
   "execution_count": 16,
   "metadata": {},
   "outputs": [
    {
     "name": "stdout",
     "output_type": "stream",
     "text": [
      "+-------+------------------+\n",
      "|summary|      TOTAL_EVENTS|\n",
      "+-------+------------------+\n",
      "|  count|             46467|\n",
      "|   mean| 7117.147287322186|\n",
      "| stddev|14779.275677390777|\n",
      "|    min|                 3|\n",
      "|    max|            775024|\n",
      "+-------+------------------+\n",
      "\n"
     ]
    }
   ],
   "source": [
    "events_count_df = df.groupBy(\"SUBJECT_ID\").agg(count(\"*\").alias(\"TOTAL_EVENTS\"))\n",
    "events_count_df.describe(\"TOTAL_EVENTS\").show()"
   ]
  },
  {
   "cell_type": "code",
   "execution_count": 21,
   "metadata": {},
   "outputs": [
    {
     "name": "stderr",
     "output_type": "stream",
     "text": [
      "                                                                                \r"
     ]
    },
    {
     "data": {
      "image/png": "[encoded data removed]",
      "text/plain": [
       "<Figure size 640x480 with 1 Axes>"
      ]
     },
     "metadata": {},
     "output_type": "display_data"
    }
   ],
   "source": [
    "y = [val.TOTAL_EVENTS for val in events_count_df.select('TOTAL_EVENTS').collect()]\n",
    "x = [val.SUBJECT_ID for val in events_count_df.select('SUBJECT_ID').collect()]\n",
    "\n",
    "plt.bar(x, y, ec='blue')\n",
    "plt.ylabel('Event count')\n",
    "plt.xlabel('SUBJECT_ID')\n",
    "plt.title('Total Events per Subject')\n",
    "plt.legend(['TOTAL_EVENTS'], loc='upper right')\n",
    "plt.xticks(rotation=45) \n",
    "plt.show()"
   ]
  },
  {
   "cell_type": "markdown",
   "metadata": {},
   "source": [
    "Here we can clearly see what looks like an irregularity in the dataset, so let's dive deeper..."
   ]
  },
  {
   "cell_type": "code",
   "execution_count": 17,
   "metadata": {},
   "outputs": [
    {
     "name": "stdout",
     "output_type": "stream",
     "text": [
      "+----------+------------+\n",
      "|SUBJECT_ID|TOTAL_EVENTS|\n",
      "+----------+------------+\n",
      "|     32810|       39128|\n",
      "|     40000|       16710|\n",
      "+----------+------------+\n",
      "\n"
     ]
    }
   ],
   "source": [
    "filtered_events_count_df = events_count_df.where(col(\"SUBJECT_ID\").between(32810, 40000))\n",
    "filtered_events_count_df.show(10)"
   ]
  },
  {
   "cell_type": "markdown",
   "metadata": {},
   "source": [
    "We can see here clearly that IDs between 32810 and 40000 arent recorded here, let's try to find why."
   ]
  },
  {
   "cell_type": "code",
   "execution_count": 18,
   "metadata": {},
   "outputs": [
    {
     "name": "stdout",
     "output_type": "stream",
     "text": [
      "+------+----------+-------+----------+------+---------+---------+----+-----+--------+--------+-------+-----+------------+-------+\n",
      "|ROW_ID|SUBJECT_ID|HADM_ID|ICUSTAY_ID|ITEMID|CHARTTIME|STORETIME|CGID|VALUE|VALUENUM|VALUEUOM|WARNING|ERROR|RESULTSTATUS|STOPPED|\n",
      "+------+----------+-------+----------+------+---------+---------+----+-----+--------+--------+-------+-----+------------+-------+\n",
      "+------+----------+-------+----------+------+---------+---------+----+-----+--------+--------+-------+-----+------------+-------+\n",
      "\n"
     ]
    }
   ],
   "source": [
    "filtered_df = df.where(col(\"SUBJECT_ID\").between(32811, 39999))\n",
    "filtered_df.show(10)"
   ]
  },
  {
   "cell_type": "markdown",
   "metadata": {},
   "source": [
    "The IDs dont even exist!\n",
    "seeing as they aren't even recorded, theres nothing to process and so theres nothing to do."
   ]
  },
  {
   "cell_type": "markdown",
   "metadata": {},
   "source": [
    "Since each subject can have multiple admissions, let's also look by admission ID."
   ]
  },
  {
   "cell_type": "code",
   "execution_count": 19,
   "metadata": {},
   "outputs": [
    {
     "name": "stdout",
     "output_type": "stream",
     "text": [
      "+-------+-----------------+\n",
      "|summary|     TOTAL_EVENTS|\n",
      "+-------+-----------------+\n",
      "|  count|            57272|\n",
      "|   mean|5774.418267216091|\n",
      "| stddev| 12266.6449584329|\n",
      "|    min|                1|\n",
      "|    max|           775024|\n",
      "+-------+-----------------+\n",
      "\n"
     ]
    }
   ],
   "source": [
    "events_count_by_admission_df = df.groupBy(\"HADM_ID\").agg(count(\"*\").alias(\"TOTAL_EVENTS\"))\n",
    "events_count_by_admission_df.describe(\"TOTAL_EVENTS\").show()"
   ]
  },
  {
   "cell_type": "markdown",
   "metadata": {},
   "source": [
    "Now there are more events than before, likely the difference comes from hospital admissions that don´t contain a subject id."
   ]
  },
  {
   "cell_type": "code",
   "execution_count": 25,
   "metadata": {},
   "outputs": [
    {
     "name": "stderr",
     "output_type": "stream",
     "text": [
      "                                                                                \r"
     ]
    },
    {
     "data": {
      "image/png": "[encoded data removed]",
      "text/plain": [
       "<Figure size 640x480 with 1 Axes>"
      ]
     },
     "metadata": {},
     "output_type": "display_data"
    }
   ],
   "source": [
    "y = [val.TOTAL_EVENTS for val in events_count_by_admission_df.select('TOTAL_EVENTS').collect()]\n",
    "x = [val.HADM_ID for val in events_count_by_admission_df.select('HADM_ID').collect()]\n",
    "\n",
    "plt.bar(x, y, ec='blue')\n",
    "plt.ylabel('Event count')\n",
    "plt.xlabel('HADM_ID')\n",
    "plt.title('Total Events per hospital admission')\n",
    "plt.legend(['TOTAL_EVENTS'], loc='upper right')\n",
    "plt.xticks(rotation=45) \n",
    "plt.show()"
   ]
  },
  {
   "cell_type": "markdown",
   "metadata": {},
   "source": [
    "### Number of Admissions (NoA)"
   ]
  },
  {
   "cell_type": "code",
   "execution_count": 20,
   "metadata": {},
   "outputs": [
    {
     "name": "stdout",
     "output_type": "stream",
     "text": [
      "+-------+--------------------+\n",
      "|summary|NUMBER_OF_ADMISSIONS|\n",
      "+-------+--------------------+\n",
      "|  count|               46467|\n",
      "|   mean|  1.2325306131232918|\n",
      "| stddev|  0.8467634142511434|\n",
      "|    min|                   1|\n",
      "|    max|                  41|\n",
      "+-------+--------------------+\n",
      "\n"
     ]
    }
   ],
   "source": [
    "noa_df = df.groupBy(\"SUBJECT_ID\").agg(countDistinct(\"HADM_ID\").alias(\"NUMBER_OF_ADMISSIONS\"))\n",
    "noa_df.describe(\"NUMBER_OF_ADMISSIONS\").show()"
   ]
  },
  {
   "cell_type": "code",
   "execution_count": 21,
   "metadata": {},
   "outputs": [
    {
     "data": {
      "image/png": "[encoded data removed]",
      "text/plain": [
       "<Figure size 640x480 with 1 Axes>"
      ]
     },
     "metadata": {},
     "output_type": "display_data"
    }
   ],
   "source": [
    "subject_ids = [row.SUBJECT_ID for row in noa_df.select(\"SUBJECT_ID\").collect()]\n",
    "num_admissions = [row.NUMBER_OF_ADMISSIONS for row in noa_df.select(\"NUMBER_OF_ADMISSIONS\").collect()]\n",
    "\n",
    "plt.bar(subject_ids, num_admissions, ec='blue') \n",
    "plt.ylabel('Number of Admissions')\n",
    "plt.xlabel('Subject ID')\n",
    "plt.title('Number of Admissions per Patient')\n",
    "plt.xticks(rotation=45)\n",
    "plt.show()"
   ]
  },
  {
   "cell_type": "markdown",
   "metadata": {},
   "source": [
    "To determine if there is subjects with more than one hospital admission, we do a groupBy operation on the ``SUBJECT_ID`` column and then count the number of unique ``HADM_IDs`` for each ``SUBJECT_ID``. \n",
    "\n",
    "We discovered that 6515 patients had more than one hospital admission."
   ]
  },
  {
   "cell_type": "code",
   "execution_count": 22,
   "metadata": {},
   "outputs": [
    {
     "name": "stdout",
     "output_type": "stream",
     "text": [
      "+-------+--------------------+\n",
      "|summary|NUMBER_OF_ADMISSIONS|\n",
      "+-------+--------------------+\n",
      "|  count|                6515|\n",
      "|   mean|  2.6584804297774367|\n",
      "| stddev|    1.65810959886756|\n",
      "|    min|                   2|\n",
      "|    max|                  41|\n",
      "+-------+--------------------+\n",
      "\n",
      "The percentage of patients that had multiple hospital admissions is 14.02%\n"
     ]
    }
   ],
   "source": [
    "subjects_multiple_admissions_df = noa_df.where(col(\"NUMBER_OF_ADMISSIONS\") > 1)\n",
    "subjects_multiple_admissions_df.describe(\"NUMBER_OF_ADMISSIONS\").show()\n",
    "\n",
    "percentage_multiple_admissions = \"{:.2f}\".format(subjects_multiple_admissions_df.count() / noa_df.count() * 100)\n",
    "\n",
    "print( \"The percentage of patients that had multiple hospital admissions is \" + percentage_multiple_admissions + \"%\")"
   ]
  },
  {
   "cell_type": "markdown",
   "metadata": {},
   "source": [
    "To determine if there is subjects with more than one ICU stay, we do a groupBy operation on the ``SUBJECT_ID`` column and then count the number of unique ``ICUSTAY_IDs`` for each ``SUBJECT_ID``. \n",
    "\n",
    "We discovered that 8436 patients had more than one ICU stay."
   ]
  },
  {
   "cell_type": "code",
   "execution_count": 23,
   "metadata": {},
   "outputs": [
    {
     "name": "stdout",
     "output_type": "stream",
     "text": [
      "+-------+------------------+\n",
      "|summary|     NUM_ICU_STAYS|\n",
      "+-------+------------------+\n",
      "|  count|              8436|\n",
      "|   mean|2.7072072072072073|\n",
      "| stddev|1.6789361311614799|\n",
      "|    min|                 2|\n",
      "|    max|                41|\n",
      "+-------+------------------+\n",
      "\n"
     ]
    }
   ],
   "source": [
    "noa_icu_df = df.groupBy(\"SUBJECT_ID\").agg(countDistinct(\"ICUSTAY_ID\").alias(\"NUM_ICU_STAYS\"))\n",
    "\n",
    "subjects_multiple_icu_stays = noa_icu_df.filter(col(\"NUM_ICU_STAYS\") > 1)\n",
    "subjects_multiple_icu_stays.describe(\"NUM_ICU_STAYS\").show()"
   ]
  },
  {
   "cell_type": "markdown",
   "metadata": {},
   "source": [
    "We used the number of hospital admissions to create a binary feature that indicated whether the pacient has been admitted more than once."
   ]
  },
  {
   "cell_type": "code",
   "execution_count": 24,
   "metadata": {},
   "outputs": [
    {
     "name": "stdout",
     "output_type": "stream",
     "text": [
      "+----------+--------------------+-------------------+\n",
      "|SUBJECT_ID|NUMBER_OF_ADMISSIONS|MULTIPLE_ADMISSIONS|\n",
      "+----------+--------------------+-------------------+\n",
      "|     28124|                   1|              false|\n",
      "|     45011|                   1|              false|\n",
      "|     40386|                   1|              false|\n",
      "|     68135|                   2|               true|\n",
      "|     24663|                   2|               true|\n",
      "|     31912|                   2|               true|\n",
      "|     32539|                   1|              false|\n",
      "|     41890|                   2|               true|\n",
      "|     49331|                   1|              false|\n",
      "|     23364|                   3|               true|\n",
      "+----------+--------------------+-------------------+\n",
      "only showing top 10 rows\n",
      "\n"
     ]
    }
   ],
   "source": [
    "noa_df = noa_df.withColumn(\"MULTIPLE_ADMISSIONS\", when(col(\"NUMBER_OF_ADMISSIONS\") > 1, True).otherwise(False))\n",
    "\n",
    "noa_df.show(10)"
   ]
  },
  {
   "cell_type": "markdown",
   "metadata": {},
   "source": [
    "And did the same for the ICU stays."
   ]
  },
  {
   "cell_type": "code",
   "execution_count": 25,
   "metadata": {},
   "outputs": [
    {
     "name": "stdout",
     "output_type": "stream",
     "text": [
      "+----------+-------------+------------------+\n",
      "|SUBJECT_ID|NUM_ICU_STAYS|MULTIPLE_ICU_STAYS|\n",
      "+----------+-------------+------------------+\n",
      "|     30361|            1|             false|\n",
      "|     23364|            3|              true|\n",
      "|     32414|            1|             false|\n",
      "|     44906|            1|             false|\n",
      "|     73683|            1|             false|\n",
      "|     28088|            1|             false|\n",
      "|     68135|            2|              true|\n",
      "|     19079|            4|              true|\n",
      "|     67089|            2|              true|\n",
      "|     68579|            2|              true|\n",
      "+----------+-------------+------------------+\n",
      "only showing top 10 rows\n",
      "\n"
     ]
    }
   ],
   "source": [
    "noa_icu_df = noa_icu_df.withColumn(\"MULTIPLE_ICU_STAYS\", when(col(\"NUM_ICU_STAYS\") > 1, True).otherwise(False))\n",
    "\n",
    "noa_icu_df.show(10)"
   ]
  },
  {
   "cell_type": "markdown",
   "metadata": {},
   "source": [
    "### Patients"
   ]
  },
  {
   "cell_type": "code",
   "execution_count": 32,
   "metadata": {},
   "outputs": [
    {
     "name": "stdout",
     "output_type": "stream",
     "text": [
      "+------+-----+\n",
      "|GENDER|count|\n",
      "+------+-----+\n",
      "|     F|20399|\n",
      "|     M|26121|\n",
      "+------+-----+\n",
      "\n"
     ]
    }
   ],
   "source": [
    "df_patients.groupBy(\"GENDER\").count().show()"
   ]
  },
  {
   "cell_type": "markdown",
   "metadata": {},
   "source": [
    "$ Percentage_{females} = {20399 \\over 20399+26121} \\times 100 { \\approx 43.85 \\%} $\n",
    "\n",
    "$ Percentage_{males} = {26121 \\over 20399+26121} \\times 100 { \\approx 56.15 \\%} $"
   ]
  },
  {
   "cell_type": "code",
   "execution_count": 33,
   "metadata": {},
   "outputs": [
    {
     "name": "stdout",
     "output_type": "stream",
     "text": [
      "+-----------+-----+\n",
      "|EXPIRE_FLAG|count|\n",
      "+-----------+-----+\n",
      "|          1|15759|\n",
      "|          0|30761|\n",
      "+-----------+-----+\n",
      "\n"
     ]
    }
   ],
   "source": [
    "df_patients.groupBy(\"EXPIRE_FLAG\").count().show()"
   ]
  },
  {
   "cell_type": "markdown",
   "metadata": {},
   "source": [
    "$ Percentage_{death} {15759 \\over 15759+30761} \\times 100 { \\approx 33.88 \\%} $"
   ]
  },
  {
   "cell_type": "markdown",
   "metadata": {},
   "source": [
    "Let's analyze the patients who have died."
   ]
  },
  {
   "cell_type": "code",
   "execution_count": 26,
   "metadata": {},
   "outputs": [
    {
     "name": "stdout",
     "output_type": "stream",
     "text": [
      "+-------+-----------------+\n",
      "|summary|     AGE_AT_DEATH|\n",
      "+-------+-----------------+\n",
      "|  count|            15759|\n",
      "|   mean|91.48156608921886|\n",
      "| stddev| 68.9326419427184|\n",
      "|    min|                0|\n",
      "|    max|              310|\n",
      "+-------+-----------------+\n",
      "\n"
     ]
    }
   ],
   "source": [
    "expired_patients_df = df_patients.filter(df_patients.EXPIRE_FLAG == 1)\n",
    "\n",
    "expired_patients_df = expired_patients_df.withColumn(\"AGE_AT_DEATH\", \n",
    "    (datediff(col(\"DOD\"), col(\"DOB\")) / 365.25).cast(IntegerType())\n",
    ")\n",
    "expired_patients_df.select(\"AGE_AT_DEATH\").describe().show()"
   ]
  },
  {
   "cell_type": "markdown",
   "metadata": {},
   "source": [
    "There are 300 years old patients!!"
   ]
  },
  {
   "cell_type": "code",
   "execution_count": 27,
   "metadata": {},
   "outputs": [
    {
     "data": {
      "image/png": "[encoded data removed]",
      "text/plain": [
       "<Figure size 640x480 with 1 Axes>"
      ]
     },
     "metadata": {},
     "output_type": "display_data"
    }
   ],
   "source": [
    "age_counts = expired_patients_df.groupBy(\"AGE_AT_DEATH\").count()\n",
    "age_counts_data = age_counts.collect()\n",
    "ages = [row['AGE_AT_DEATH'] for row in age_counts_data]\n",
    "counts = [row['count'] for row in age_counts_data]\n",
    "\n",
    "plt.bar(ages, counts, ec='blue')\n",
    "plt.ylabel('Count of Subject IDs')\n",
    "plt.xlabel('Age at Death')\n",
    "plt.title('Count of Subject IDs by Age at Death')\n",
    "plt.xticks(rotation=45)\n",
    "plt.show()"
   ]
  },
  {
   "cell_type": "markdown",
   "metadata": {},
   "source": [
    "For privacy reasons, the date of birth (DOB) of  patients above the age of 89 was shifted.\n",
    "As stated in the dataset's documentation, \"Patients who are older than 89 years old at any time in the database have had their date of birth shifted to obscure their age and comply with HIPAA. The shift process was as follows: the patient’s age at their first admission was determined. The date of birth was then set to exactly 300 years before their first admission.\""
   ]
  },
  {
   "cell_type": "code",
   "execution_count": 28,
   "metadata": {},
   "outputs": [
    {
     "data": {
      "image/png": "[encoded data removed]",
      "text/plain": [
       "<Figure size 640x480 with 1 Axes>"
      ]
     },
     "metadata": {},
     "output_type": "display_data"
    }
   ],
   "source": [
    "expired_patients_filtered = expired_patients_df.filter(col(\"AGE_AT_DEATH\") <= 89)\n",
    "age_counts = expired_patients_filtered.groupBy(\"AGE_AT_DEATH\").count()\n",
    "age_counts_data = age_counts.collect()\n",
    "ages = [row['AGE_AT_DEATH'] for row in age_counts_data]\n",
    "counts = [row['count'] for row in age_counts_data]\n",
    "\n",
    "plt.bar(ages, counts, ec='blue')\n",
    "plt.ylabel('Count of Subject IDs')\n",
    "plt.xlabel('Age at Death')\n",
    "plt.title('Count of Subject IDs by Age at Death')\n",
    "plt.xticks(rotation=45)\n",
    "plt.show()"
   ]
  },
  {
   "cell_type": "markdown",
   "metadata": {},
   "source": [
    "It is impossible to determine the real age of these patients. Therefore, we have decided to remove them."
   ]
  },
  {
   "cell_type": "code",
   "execution_count": 29,
   "metadata": {},
   "outputs": [],
   "source": [
    "expired_patients_df = expired_patients_filtered"
   ]
  },
  {
   "cell_type": "markdown",
   "metadata": {},
   "source": [
    "Now, with the remaining patients that have a valid date of birth we are going to compute their age at the time of admission."
   ]
  },
  {
   "cell_type": "code",
   "execution_count": 30,
   "metadata": {},
   "outputs": [],
   "source": [
    "unexpired_patients_df = df_patients.filter(df_patients.EXPIRE_FLAG != 1)"
   ]
  },
  {
   "cell_type": "code",
   "execution_count": 31,
   "metadata": {},
   "outputs": [
    {
     "name": "stdout",
     "output_type": "stream",
     "text": [
      "+----------+------+-------+-------------------+-------------------+-------------------+--------------+--------------------+--------------------+---------+--------+-----------------+--------------+--------------------+-------------------+-------------------+--------------------+--------------------+--------------------+-------------------+----------------+\n",
      "|SUBJECT_ID|ROW_ID|HADM_ID|          ADMITTIME|          DISCHTIME|          DEATHTIME|ADMISSION_TYPE|  ADMISSION_LOCATION|  DISCHARGE_LOCATION|INSURANCE|LANGUAGE|         RELIGION|MARITAL_STATUS|           ETHNICITY|          EDREGTIME|          EDOUTTIME|           DIAGNOSIS|HOSPITAL_EXPIRE_FLAG|HAS_CHARTEVENTS_DATA|                DOB|AGE_AT_ADMISSION|\n",
      "+----------+------+-------+-------------------+-------------------+-------------------+--------------+--------------------+--------------------+---------+--------+-----------------+--------------+--------------------+-------------------+-------------------+--------------------+--------------------+--------------------+-------------------+----------------+\n",
      "|        22|    21| 165315|2196-04-09 12:26:00|2196-04-10 15:54:00|               NULL|     EMERGENCY|EMERGENCY ROOM ADMIT|DISC-TRAN CANCER/...|  Private|    NULL|     UNOBTAINABLE|       MARRIED|               WHITE|2196-04-09 10:06:00|2196-04-09 13:24:00|BENZODIAZEPINE OV...|                   0|                   1|2131-05-07 00:00:00|              64|\n",
      "|        23|    22| 152223|2153-09-03 07:15:00|2153-09-08 19:10:00|               NULL|      ELECTIVE|PHYS REFERRAL/NOR...|    HOME HEALTH CARE| Medicare|    NULL|         CATHOLIC|       MARRIED|               WHITE|               NULL|               NULL|CORONARY ARTERY D...|                   0|                   1|2082-07-17 00:00:00|              71|\n",
      "|        23|    23| 124321|2157-10-18 19:34:00|2157-10-25 14:00:00|               NULL|     EMERGENCY|TRANSFER FROM HOS...|    HOME HEALTH CARE| Medicare|    ENGL|         CATHOLIC|       MARRIED|               WHITE|               NULL|               NULL|          BRAIN MASS|                   0|                   1|2082-07-17 00:00:00|              75|\n",
      "|        24|    24| 161859|2139-06-06 16:14:00|2139-06-09 12:48:00|               NULL|     EMERGENCY|TRANSFER FROM HOS...|                HOME|  Private|    NULL|PROTESTANT QUAKER|        SINGLE|               WHITE|               NULL|               NULL|INTERIOR MYOCARDI...|                   0|                   1|2100-05-31 00:00:00|              39|\n",
      "|        25|    25| 129635|2160-11-02 02:06:00|2160-11-05 14:55:00|               NULL|     EMERGENCY|EMERGENCY ROOM ADMIT|                HOME|  Private|    NULL|     UNOBTAINABLE|       MARRIED|               WHITE|2160-11-02 01:01:00|2160-11-02 04:27:00|ACUTE CORONARY SY...|                   0|                   1|2101-11-21 00:00:00|              58|\n",
      "|        26|    26| 197661|2126-05-06 15:16:00|2126-05-13 15:00:00|               NULL|     EMERGENCY|TRANSFER FROM HOS...|                HOME| Medicare|    NULL|         CATHOLIC|        SINGLE|UNKNOWN/NOT SPECI...|               NULL|               NULL|              V-TACH|                   0|                   1|2054-05-04 00:00:00|              72|\n",
      "|        27|    27| 134931|2191-11-30 22:16:00|2191-12-03 14:45:00|               NULL|       NEWBORN|PHYS REFERRAL/NOR...|                HOME|  Private|    NULL|         CATHOLIC|          NULL|               WHITE|               NULL|               NULL|             NEWBORN|                   0|                   1|2191-11-30 00:00:00|               0|\n",
      "|        28|    28| 162569|2177-09-01 07:15:00|2177-09-06 16:00:00|               NULL|      ELECTIVE|PHYS REFERRAL/NOR...|    HOME HEALTH CARE| Medicare|    NULL|         CATHOLIC|       MARRIED|               WHITE|               NULL|               NULL|CORONARY ARTERY D...|                   0|                   1|2103-04-15 00:00:00|              74|\n",
      "|        30|    29| 104557|2172-10-14 14:17:00|2172-10-19 14:37:00|               NULL|        URGENT|TRANSFER FROM HOS...|    HOME HEALTH CARE| Medicare|    NULL|         CATHOLIC|       MARRIED|UNKNOWN/NOT SPECI...|               NULL|               NULL|UNSTABLE ANGINA\\CATH|                   0|                   1|1872-10-14 00:00:00|             299|\n",
      "|        31|    30| 128652|2108-08-22 23:27:00|2108-08-30 15:00:00|2108-08-30 15:00:00|     EMERGENCY|TRANSFER FROM HOS...|        DEAD/EXPIRED| Medicare|    NULL|         CATHOLIC|       MARRIED|               WHITE|               NULL|               NULL|  STATUS EPILEPTICUS|                   1|                   1|2036-05-17 00:00:00|              72|\n",
      "+----------+------+-------+-------------------+-------------------+-------------------+--------------+--------------------+--------------------+---------+--------+-----------------+--------------+--------------------+-------------------+-------------------+--------------------+--------------------+--------------------+-------------------+----------------+\n",
      "only showing top 10 rows\n",
      "\n"
     ]
    }
   ],
   "source": [
    "valid_dob_patients_df = expired_patients_df[[\"ROW_ID\", \"SUBJECT_ID\", \"GENDER\", \"DOB\", \"DOD\", \"DOD_HOSP\", \"DOD_SSN\", \"EXPIRE_FLAG\"]].union(unexpired_patients_df)\n",
    "\n",
    "df_admissions_with_ages = df_admissions.join(valid_dob_patients_df[\"SUBJECT_ID\",\"DOB\"],on=\"SUBJECT_ID\",how=\"left\")\n",
    "\n",
    "df_admissions_with_ages = df_admissions_with_ages.withColumn(\"AGE_AT_ADMISSION\", (datediff(col(\"ADMITTIME\"), col(\"DOB\")) / 365.25).cast(IntegerType()))\n",
    "\n",
    "df_admissions_with_ages.show(10)"
   ]
  },
  {
   "cell_type": "markdown",
   "metadata": {},
   "source": [
    "For the remaining patients it is impossible to calculate their age, and we have decided agaisn't methods such as mean imputation."
   ]
  },
  {
   "cell_type": "code",
   "execution_count": 32,
   "metadata": {},
   "outputs": [
    {
     "data": {
      "image/png": "[encoded data removed]",
      "text/plain": [
       "<Figure size 640x480 with 1 Axes>"
      ]
     },
     "metadata": {},
     "output_type": "display_data"
    }
   ],
   "source": [
    "df_admissions_with_ages = df_admissions_with_ages.fillna({'AGE_AT_ADMISSION': -1})\n",
    "\n",
    "age_counts = df_admissions_with_ages.groupBy(\"AGE_AT_ADMISSION\").count()\n",
    "age_counts_data = age_counts.collect()\n",
    "ages = [row['AGE_AT_ADMISSION'] for row in age_counts_data]\n",
    "counts = [row['count'] for row in age_counts_data]\n",
    "\n",
    "plt.bar(ages, counts, ec='blue')\n",
    "plt.ylabel('Count of Subject IDs')\n",
    "plt.xlabel('Age at Admission')\n",
    "plt.title('Count of Subject IDs by Age at Admission')\n",
    "plt.xticks(rotation=45)\n",
    "plt.show()"
   ]
  },
  {
   "cell_type": "markdown",
   "metadata": {},
   "source": [
    "A few more still exist among the non-hospital deaths, so we´ll  remove them aswell."
   ]
  },
  {
   "cell_type": "code",
   "execution_count": 33,
   "metadata": {},
   "outputs": [],
   "source": [
    "df_admissions_with_ages = df_admissions_with_ages.filter( (col(\"AGE_AT_ADMISSION\") <= 89 ) & ( col(\"AGE_AT_ADMISSION\") >=0  )) "
   ]
  },
  {
   "cell_type": "code",
   "execution_count": 42,
   "metadata": {},
   "outputs": [
    {
     "name": "stdout",
     "output_type": "stream",
     "text": [
      "+-------+-----------------+\n",
      "|summary| AGE_AT_ADMISSION|\n",
      "+-------+-----------------+\n",
      "|  count|            56081|\n",
      "|   mean|52.87803355860274|\n",
      "| stddev|26.58217541402827|\n",
      "|    min|                0|\n",
      "|    max|               88|\n",
      "+-------+-----------------+\n",
      "\n"
     ]
    }
   ],
   "source": [
    "df_admissions_with_ages.select(\"AGE_AT_ADMISSION\").describe().show()"
   ]
  },
  {
   "cell_type": "markdown",
   "metadata": {},
   "source": [
    "### Diagnosis"
   ]
  },
  {
   "cell_type": "markdown",
   "metadata": {},
   "source": [
    "Here, we fill the missing values in the `ICD9_CODE` column with 'NA' so that they can be analyzed correctly. Then, we group the data by `ICD9_CODE` and count the occurrences of each code."
   ]
  },
  {
   "cell_type": "code",
   "execution_count": 34,
   "metadata": {},
   "outputs": [
    {
     "data": {
      "image/png": "[encoded data removed]",
      "text/plain": [
       "<Figure size 1200x600 with 1 Axes>"
      ]
     },
     "metadata": {},
     "output_type": "display_data"
    }
   ],
   "source": [
    "df_icd_diagnoses = df_icd_diagnoses.fillna({'ICD9_CODE': 'NA'})\n",
    "icd9_code_counts = df_icd_diagnoses.groupBy(\"ICD9_CODE\").count()\n",
    "icd9_code_counts_data = icd9_code_counts.collect()\n",
    "\n",
    "icd9_codes = [row['ICD9_CODE'] for row in icd9_code_counts_data]\n",
    "counts = [row['count'] for row in icd9_code_counts_data]\n",
    "\n",
    "plt.figure(figsize=(12, 6))\n",
    "plt.bar(icd9_codes, counts, ec='blue')\n",
    "plt.ylabel('Count of ICD9_CODES')\n",
    "plt.xlabel('ICD9_CODE')\n",
    "plt.title('Count of ICD9_CODEs')\n",
    "plt.show()"
   ]
  },
  {
   "cell_type": "markdown",
   "metadata": {},
   "source": [
    "We join `icd9_code_counts` with `df_d_icd_diagnoses` to to find out which disease each `ICD9_CODE` corresponds."
   ]
  },
  {
   "cell_type": "code",
   "execution_count": 35,
   "metadata": {},
   "outputs": [
    {
     "name": "stdout",
     "output_type": "stream",
     "text": [
      "+---------+-----+------+--------------------+--------------------+\n",
      "|ICD9_CODE|count|ROW_ID|         SHORT_TITLE|          LONG_TITLE|\n",
      "+---------+-----+------+--------------------+--------------------+\n",
      "|     4821|  430|  5502|Pseudomonal pneum...|Pneumonia due to ...|\n",
      "|    55321|  152|  5556|   Incisional hernia|Incisional hernia...|\n",
      "|     0579|    3|   971|Viral exanthemata...|Viral exanthem, u...|\n",
      "|    85405|   10|  8848|Brain inj NEC-dee...|Intracranial inju...|\n",
      "|    70721|  121|  8127|Pressure ulcer, s...|Pressure ulcer, s...|\n",
      "+---------+-----+------+--------------------+--------------------+\n",
      "only showing top 5 rows\n",
      "\n"
     ]
    }
   ],
   "source": [
    "icd9_code_counts = icd9_code_counts.join(df_d_icd_diagnoses, on='ICD9_CODE', how='left')\n",
    "icd9_code_counts.show(5)"
   ]
  },
  {
   "cell_type": "markdown",
   "metadata": {},
   "source": [
    "Summary statistics:"
   ]
  },
  {
   "cell_type": "code",
   "execution_count": 36,
   "metadata": {},
   "outputs": [
    {
     "name": "stdout",
     "output_type": "stream",
     "text": [
      "Total number of unique ICD9 codes: 6985\n",
      "Total count of subject IDs: 651047\n",
      "Minimum count: 1\n",
      "Maximum count: 20703\n",
      "Average count: 93.21\n",
      "5 most frequent deseases (short title):\n",
      "+------------------------+-----+\n",
      "|SHORT_TITLE             |count|\n",
      "+------------------------+-----+\n",
      "|Hypertension NOS        |20703|\n",
      "|CHF NOS                 |13111|\n",
      "|Atrial fibrillation     |12891|\n",
      "|Crnry athrscl natve vssl|12429|\n",
      "|Acute kidney failure NOS|9119 |\n",
      "+------------------------+-----+\n",
      "\n",
      "5 least frequent deseases (short title):\n",
      "+------------------------+-----+\n",
      "|SHORT_TITLE             |count|\n",
      "+------------------------+-----+\n",
      "|Prog muscular atrophy   |1    |\n",
      "|Benign neo skin eyelid  |1    |\n",
      "|Hyperem w metab-antepart|1    |\n",
      "|Schizoaff dis-subch/exac|1    |\n",
      "|Anomalies of inner ear  |1    |\n",
      "+------------------------+-----+\n",
      "\n"
     ]
    }
   ],
   "source": [
    "total_unique_codes = icd9_code_counts.select(\"ICD9_CODE\").distinct().count()\n",
    "total_subject_ids = icd9_code_counts.select(spark_sum(\"count\")).first()[0]\n",
    "min_count = icd9_code_counts.select(spark_min(\"count\")).first()[0]\n",
    "max_count = icd9_code_counts.select(spark_max(\"count\")).first()[0]\n",
    "average_count = icd9_code_counts.select(spark_avg(\"count\")).first()[0]\n",
    "top_five_diseases = icd9_code_counts.orderBy(desc(\"count\")).limit(5)\n",
    "five_least_frequent_diseases = icd9_code_counts.orderBy(asc(\"count\")).limit(5)\n",
    "\n",
    "print(f\"Total number of unique ICD9 codes: {total_unique_codes}\")\n",
    "print(f\"Total count of subject IDs: {total_subject_ids}\")\n",
    "print(f\"Minimum count: {min_count}\")\n",
    "print(f\"Maximum count: {max_count}\")\n",
    "print(f\"Average count: {average_count:.2f}\")\n",
    "print(\"5 most frequent deseases (short title):\")\n",
    "top_five_diseases[\"SHORT_TITLE\",\"count\"].show(truncate=False)\n",
    "print(\"5 least frequent deseases (short title):\")\n",
    "five_least_frequent_diseases[\"SHORT_TITLE\",\"count\"].show(truncate=False)"
   ]
  },
  {
   "cell_type": "markdown",
   "metadata": {},
   "source": [
    "Let's find the code of the most common diagnosis."
   ]
  },
  {
   "cell_type": "code",
   "execution_count": 47,
   "metadata": {},
   "outputs": [
    {
     "name": "stdout",
     "output_type": "stream",
     "text": [
      "+------+---------+----------------+--------------------+\n",
      "|ROW_ID|ICD9_CODE|     SHORT_TITLE|          LONG_TITLE|\n",
      "+------+---------+----------------+--------------------+\n",
      "|  4304|     4019|Hypertension NOS|Unspecified essen...|\n",
      "+------+---------+----------------+--------------------+\n",
      "\n"
     ]
    }
   ],
   "source": [
    "df_d_icd_diagnoses.filter(col(\"SHORT_TITLE\") == lit(\"Hypertension NOS\")).show()"
   ]
  },
  {
   "cell_type": "markdown",
   "metadata": {},
   "source": [
    "There are 47 patients without a diagnostic."
   ]
  },
  {
   "cell_type": "code",
   "execution_count": 37,
   "metadata": {},
   "outputs": [
    {
     "name": "stdout",
     "output_type": "stream",
     "text": [
      "+---------+-----+------+-----------+----------+\n",
      "|ICD9_CODE|count|ROW_ID|SHORT_TITLE|LONG_TITLE|\n",
      "+---------+-----+------+-----------+----------+\n",
      "|       NA|   47|  NULL|       NULL|      NULL|\n",
      "+---------+-----+------+-----------+----------+\n",
      "\n"
     ]
    }
   ],
   "source": [
    "icd9_code_counts_null = icd9_code_counts.filter(col(\"ICD9_CODE\") == \"NA\")\n",
    "icd9_code_counts_null.show()"
   ]
  },
  {
   "cell_type": "markdown",
   "metadata": {},
   "source": [
    "## LOS Predictions"
   ]
  },
  {
   "cell_type": "markdown",
   "metadata": {},
   "source": [
    "### Constructing the model's dataset"
   ]
  },
  {
   "cell_type": "markdown",
   "metadata": {},
   "source": [
    "Getting the base set of IDs and the target variable."
   ]
  },
  {
   "cell_type": "code",
   "execution_count": 38,
   "metadata": {},
   "outputs": [],
   "source": [
    "ds = df_icustays[[\"HADM_ID\", \"SUBJECT_ID\", \"LOS\"]]"
   ]
  },
  {
   "cell_type": "markdown",
   "metadata": {},
   "source": [
    "Filter to include only the most common diagnosis and adding corresponding sequence number for that particular admission."
   ]
  },
  {
   "cell_type": "code",
   "execution_count": 39,
   "metadata": {},
   "outputs": [],
   "source": [
    "ds = ds.join(df_icd_diagnoses[[\"SUBJECT_ID\", \"HADM_ID\", \"SEQ_NUM\", \"ICD9_CODE\"]].filter(col(\"ICD9_CODE\") == \"4019\"),on=[\"HADM_ID\", \"SUBJECT_ID\"], how=\"inner\" )"
   ]
  },
  {
   "cell_type": "markdown",
   "metadata": {},
   "source": [
    "~~Add the min max and average values to each patient.~~  \n",
    "We wanted to use these values, but the way they are presently formatted makes this hard.\n",
    "We thought about deriving a score, based on the item's severity and quantity and dosage, but our lack of medical expertise makes this tough.  \n",
    "Perhaps if this dataset came bundled with a doctor..."
   ]
  },
  {
   "cell_type": "code",
   "execution_count": 51,
   "metadata": {},
   "outputs": [],
   "source": [
    "#ds = ds.join(item_df[[\"HADM_ID\", \"SUBJECT_ID\", \"min_value\", \"max_value\", \"avg_value\"]],on=[\"HADM_ID\", \"SUBJECT_ID\"], how=\"left\" )"
   ]
  },
  {
   "cell_type": "markdown",
   "metadata": {},
   "source": [
    "Adding the event count to each admission."
   ]
  },
  {
   "cell_type": "code",
   "execution_count": 40,
   "metadata": {},
   "outputs": [],
   "source": [
    "ds = ds.join(events_count_by_admission_df[[\"HADM_ID\",\"TOTAL_EVENTS\"]],on=[\"HADM_ID\"], how=\"inner\")"
   ]
  },
  {
   "cell_type": "markdown",
   "metadata": {},
   "source": [
    "And the gender."
   ]
  },
  {
   "cell_type": "code",
   "execution_count": 41,
   "metadata": {},
   "outputs": [],
   "source": [
    "ds = ds.join(df_patients[[\"SUBJECT_ID\",\"GENDER\"]],on=[\"SUBJECT_ID\"], how=\"inner\") "
   ]
  },
  {
   "cell_type": "markdown",
   "metadata": {},
   "source": [
    "And whether or not they have been admitted to the hospital multiple times."
   ]
  },
  {
   "cell_type": "code",
   "execution_count": 42,
   "metadata": {},
   "outputs": [],
   "source": [
    "ds = ds.join(noa_df[[\"SUBJECT_ID\",\"MULTIPLE_ADMISSIONS\"]],on=[\"SUBJECT_ID\"], how=\"inner\") "
   ]
  },
  {
   "cell_type": "markdown",
   "metadata": {},
   "source": [
    "The same but for the ICU."
   ]
  },
  {
   "cell_type": "code",
   "execution_count": 43,
   "metadata": {},
   "outputs": [],
   "source": [
    "ds = ds.join(noa_icu_df[[\"SUBJECT_ID\",\"MULTIPLE_ICU_STAYS\"]],on=[\"SUBJECT_ID\"], how=\"inner\") "
   ]
  },
  {
   "cell_type": "markdown",
   "metadata": {},
   "source": [
    "Finally, the age at admission and admission type and admission date if we decide we want to order the window by date of entry."
   ]
  },
  {
   "cell_type": "code",
   "execution_count": 44,
   "metadata": {},
   "outputs": [],
   "source": [
    "ds = ds.join(df_admissions_with_ages[[\"SUBJECT_ID\", \"HADM_ID\",\"ADMISSION_TYPE\",\"AGE_AT_ADMISSION\",\"ADMITTIME\"]],on=[\"SUBJECT_ID\", \"HADM_ID\"], how=\"inner\") "
   ]
  },
  {
   "cell_type": "markdown",
   "metadata": {},
   "source": [
    "We shouldn't need this code anymore..."
   ]
  },
  {
   "cell_type": "code",
   "execution_count": 45,
   "metadata": {},
   "outputs": [],
   "source": [
    "ds = ds.drop(\"ICD9_CODE\")"
   ]
  },
  {
   "cell_type": "markdown",
   "metadata": {},
   "source": [
    "We use `StringIndexer` to convert categorical string columns into numeric indices. This is crucial for ML models that require numerical input."
   ]
  },
  {
   "cell_type": "code",
   "execution_count": 46,
   "metadata": {},
   "outputs": [
    {
     "name": "stdout",
     "output_type": "stream",
     "text": [
      "+----------+-------+------+-------+------------+----------------+-------------------+------+--------------+-------------------+------------------+\n",
      "|SUBJECT_ID|HADM_ID|   LOS|SEQ_NUM|TOTAL_EVENTS|AGE_AT_ADMISSION|          ADMITTIME|GENDER|ADMISSION_TYPE|MULTIPLE_ADMISSIONS|MULTIPLE_ICU_STAYS|\n",
      "+----------+-------+------+-------+------------+----------------+-------------------+------+--------------+-------------------+------------------+\n",
      "|       295| 192988|0.9057|      2|        1246|              61|2176-03-06 12:30:00|   1.0|           1.0|                  0|                 0|\n",
      "|      2791| 160235|1.3653|      4|         732|              74|2120-04-25 17:04:00|   1.0|           0.0|                  1|                 1|\n",
      "|      2556| 135423| 0.705|      9|         736|              62|2173-02-20 23:57:00|   0.0|           0.0|                  0|                 0|\n",
      "|      4496| 144907|1.4628|      5|        1446|              69|2165-09-23 13:59:00|   0.0|           0.0|                  0|                 0|\n",
      "|      2225| 192401|7.5586|     19|       23668|              66|2129-10-24 17:04:00|   0.0|           0.0|                  0|                 0|\n",
      "+----------+-------+------+-------+------------+----------------+-------------------+------+--------------+-------------------+------------------+\n",
      "only showing top 5 rows\n",
      "\n"
     ]
    }
   ],
   "source": [
    "indexer = StringIndexer(inputCol=\"GENDER\", outputCol=\"GENDER_INDEX\") \n",
    "ds = indexer.fit(ds).transform(ds) \n",
    "\n",
    "indexer = StringIndexer(inputCol=\"ADMISSION_TYPE\", outputCol=\"ADMISSION_TYPE_INDEX\") \n",
    "ds = indexer.fit(ds).transform(ds) \n",
    "\n",
    "ds = ds.withColumn(\"MULTIPLE_ADMISSIONS_INDEX\", when(col(\"MULTIPLE_ADMISSIONS\") == True, 1).otherwise(0))\n",
    "\n",
    "ds = ds.withColumn(\"MULTIPLE_ICU_STAYS_INDEX\", when(col(\"MULTIPLE_ICU_STAYS\") == True, 1).otherwise(0))\n",
    "\n",
    "'''\n",
    "ds = ds.withColumn('admit_weekday', dayofweek('ADMITTIME'))\n",
    "ds = ds.withColumn('admit_day', dayofmonth('ADMITTIME'))\n",
    "ds = ds.withColumn('admit_month', month('ADMITTIME'))\n",
    "ds = ds.withColumn('admit_year', year('ADMITTIME'))\n",
    "ds = ds.withColumn('admit_hour', hour('ADMITTIME'))\n",
    "'''\n",
    "\n",
    "ds = ds.drop(\"GENDER\", \"ADMISSION_TYPE\", \"MULTIPLE_ADMISSIONS\", \"MULTIPLE_ICU_STAYS\")\n",
    "\n",
    "ds = ds.withColumnRenamed(\"GENDER_INDEX\", \"GENDER\")\n",
    "ds = ds.withColumnRenamed(\"ADMISSION_TYPE_INDEX\", \"ADMISSION_TYPE\")\n",
    "ds = ds.withColumnRenamed(\"MULTIPLE_ADMISSIONS_INDEX\", \"MULTIPLE_ADMISSIONS\")\n",
    "ds = ds.withColumnRenamed(\"MULTIPLE_ICU_STAYS_INDEX\", \"MULTIPLE_ICU_STAYS\")\n",
    "\n",
    "ds.show(5)"
   ]
  },
  {
   "cell_type": "markdown",
   "metadata": {},
   "source": [
    "Now let's do a correlation matrix."
   ]
  },
  {
   "cell_type": "code",
   "execution_count": 47,
   "metadata": {},
   "outputs": [
    {
     "data": {
      "image/png": "[encoded data removed]",
      "text/plain": [
       "<Figure size 800x800 with 2 Axes>"
      ]
     },
     "metadata": {},
     "output_type": "display_data"
    }
   ],
   "source": [
    "feature_columns = [\"TOTAL_EVENTS\", \"AGE_AT_ADMISSION\", \"GENDER\", \"ADMISSION_TYPE\", \"MULTIPLE_ADMISSIONS\", \"MULTIPLE_ICU_STAYS\", \"SEQ_NUM\"]\n",
    "\n",
    "vector_assembler = VectorAssembler(inputCols=feature_columns, outputCol=\"features\")\n",
    "vector_df = vector_assembler.transform(ds).select(\"features\")\n",
    "\n",
    "correlation_matrix = Correlation.corr(vector_df, \"features\").head()[0]\n",
    "\n",
    "corr_matrix_array = np.array(correlation_matrix.toArray())\n",
    "\n",
    "corr_matrix_df = pd.DataFrame(corr_matrix_array, index=feature_columns, columns=feature_columns)\n",
    "\n",
    "mask = np.tri(corr_matrix_df.shape[0], dtype=bool)\n",
    "\n",
    "plt.figure(figsize=(8, 8))\n",
    "sns.heatmap(corr_matrix_df, mask=~mask, cmap='RdBu_r', square=True, vmin=-1, vmax=1, annot=True)\n",
    "plt.show()"
   ]
  },
  {
   "cell_type": "markdown",
   "metadata": {},
   "source": [
    "Overall the only significative correlation was more or less expected.  \n",
    "There's also a surprising correlation but not as significant correlation in `SEQ_NUM` and `TOTAL_EVENTS`."
   ]
  },
  {
   "cell_type": "markdown",
   "metadata": {},
   "source": [
    "### Null Values"
   ]
  },
  {
   "cell_type": "markdown",
   "metadata": {},
   "source": [
    "There are no null values."
   ]
  },
  {
   "cell_type": "code",
   "execution_count": 60,
   "metadata": {},
   "outputs": [
    {
     "name": "stderr",
     "output_type": "stream",
     "text": [
      "[Stage 323:(25 + 10) / 35][Stage 324:>  (0 + 2) / 5][Stage 325:>  (0 + 0) / 3]5]\r"
     ]
    },
    {
     "name": "stdout",
     "output_type": "stream",
     "text": [
      "+----------+-------+---+-------+------------+----------------+---------+------+--------------+-------------------+------------------+\n",
      "|SUBJECT_ID|HADM_ID|LOS|SEQ_NUM|TOTAL_EVENTS|AGE_AT_ADMISSION|ADMITTIME|GENDER|ADMISSION_TYPE|MULTIPLE_ADMISSIONS|MULTIPLE_ICU_STAYS|\n",
      "+----------+-------+---+-------+------------+----------------+---------+------+--------------+-------------------+------------------+\n",
      "|         0|      0|  0|      0|           0|               0|        0|     0|             0|                  0|                 0|\n",
      "+----------+-------+---+-------+------------+----------------+---------+------+--------------+-------------------+------------------+\n",
      "\n"
     ]
    },
    {
     "name": "stderr",
     "output_type": "stream",
     "text": [
      "                                                                                \r"
     ]
    }
   ],
   "source": [
    "ds.select([count(when(isnull(c), c)).alias(c) for c in ds.columns]).show()"
   ]
  },
  {
   "cell_type": "markdown",
   "metadata": {},
   "source": [
    "### Duplicate Values"
   ]
  },
  {
   "cell_type": "markdown",
   "metadata": {},
   "source": [
    "There are no duplicates in the dataset."
   ]
  },
  {
   "cell_type": "code",
   "execution_count": 61,
   "metadata": {},
   "outputs": [
    {
     "name": "stderr",
     "output_type": "stream",
     "text": [
      "                                                                                \r"
     ]
    },
    {
     "name": "stdout",
     "output_type": "stream",
     "text": [
      "+----------+\n",
      "|sum(count)|\n",
      "+----------+\n",
      "|      NULL|\n",
      "+----------+\n",
      "\n"
     ]
    }
   ],
   "source": [
    "duplicate_cols = ['HADM_ID', 'SUBJECT_ID', 'LOS', 'SEQ_NUM', 'TOTAL_EVENTS', 'MULTIPLE_ADMISSIONS', 'MULTIPLE_ICU_STAYS', 'AGE_AT_ADMISSION', 'ADMITTIME', 'GENDER', 'ADMISSION_TYPE']\n",
    "ds.groupBy(duplicate_cols)\\\n",
    "    .count()\\\n",
    "    .where(col('count') > 1)\\\n",
    "    .select(sum('count'))\\\n",
    "    .show()"
   ]
  },
  {
   "cell_type": "markdown",
   "metadata": {},
   "source": [
    "### Outliers"
   ]
  },
  {
   "cell_type": "markdown",
   "metadata": {},
   "source": [
    "As we can see from the box plot, the dataset has some outliers."
   ]
  },
  {
   "cell_type": "code",
   "execution_count": 48,
   "metadata": {},
   "outputs": [
    {
     "data": {
      "image/png": "[encoded data removed]",
      "text/plain": [
       "<Figure size 1000x600 with 1 Axes>"
      ]
     },
     "metadata": {},
     "output_type": "display_data"
    }
   ],
   "source": [
    "ds_pandas = ds.select('LOS').toPandas()\n",
    "\n",
    "plt.figure(figsize=(10, 6))\n",
    "sns.boxplot(x='LOS', data=ds_pandas, whis=1.5, showfliers=True, color='skyblue')\n",
    "plt.title('Box plot of LOS')\n",
    "plt.xlabel('Length of Stay (LOS)')\n",
    "plt.show()"
   ]
  },
  {
   "cell_type": "markdown",
   "metadata": {},
   "source": [
    "We decided to remove the `LOS`s greater than 75. "
   ]
  },
  {
   "cell_type": "code",
   "execution_count": 49,
   "metadata": {},
   "outputs": [
    {
     "name": "stdout",
     "output_type": "stream",
     "text": [
      "+-------+-----------------+\n",
      "|summary|              LOS|\n",
      "+-------+-----------------+\n",
      "|  count|            19891|\n",
      "|   mean|3.747975958976435|\n",
      "| stddev|5.056071571607137|\n",
      "|    min|           3.0E-4|\n",
      "|    max|          67.9735|\n",
      "+-------+-----------------+\n",
      "\n"
     ]
    }
   ],
   "source": [
    "ds = ds.filter(ds['LOS'] <= 75)\n",
    "ds.describe('LOS').show()"
   ]
  },
  {
   "cell_type": "markdown",
   "metadata": {},
   "source": [
    "Looks good, let's save it as a parquet file, so we can hop over to the ML task notebook."
   ]
  },
  {
   "cell_type": "code",
   "execution_count": 50,
   "metadata": {},
   "outputs": [],
   "source": [
    "ds_parquet_file_path = \"dataset/DS.parquet\"\n",
    "\n",
    "ds.write.format(\"parquet\") \\\n",
    "    .option(\"compression\", \"snappy\") \\\n",
    "    .save(ds_parquet_file_path)"
   ]
  }
 ],
 "metadata": {
  "kernelspec": {
   "display_name": "Python 3",
   "language": "python",
   "name": "python3"
  },
  "language_info": {
   "codemirror_mode": {
    "name": "ipython",
    "version": 3
   },
   "file_extension": ".py",
   "mimetype": "text/x-python",
   "name": "python",
   "nbconvert_exporter": "python",
   "pygments_lexer": "ipython3",
   "version": "3.10.11"
  }
 },
 "nbformat": 4,
 "nbformat_minor": 2
}
